{
 "cells": [
  {
   "cell_type": "markdown",
   "id": "boring-grove",
   "metadata": {},
   "source": [
    "# Train Models to Recognize Kitharai\n",
    "*Adapted from the [Keras Applications](https://keras.io/api/applications/) page and [Image Classification Tutorial](https://www.tensorflow.org/tutorials/images/classification).*"
   ]
  },
  {
   "cell_type": "code",
   "execution_count": 1,
   "id": "twelve-possession",
   "metadata": {
    "scrolled": true
   },
   "outputs": [],
   "source": [
    "# import libraries from tensorflow keras (for model building), sklearn (for metrics), matplotlib (for visualization), and np/os/pd (for data processing)\n",
    "import tensorflow as tf\n",
    "from tensorflow.keras import optimizers, losses, activations, models, applications, layers, metrics\n",
    "from tensorflow.keras.preprocessing import image\n",
    "from tensorflow.keras.layers import Convolution2D, Dense, Input, Flatten, Dropout, MaxPooling2D, BatchNormalization, GlobalAveragePooling2D, Concatenate\n",
    "from tensorflow.keras.models import Model, Sequential\n",
    "from tensorflow.keras.callbacks import ModelCheckpoint, LearningRateScheduler, EarlyStopping, ReduceLROnPlateau, TensorBoard\n",
    "from tensorflow.keras.optimizers import SGD\n",
    "from sklearn.metrics import classification_report, confusion_matrix, accuracy_score, roc_auc_score\n",
    "import matplotlib.pyplot as plt\n",
    "import numpy as np\n",
    "import os\n",
    "import pandas as pd"
   ]
  },
  {
   "cell_type": "code",
   "execution_count": 2,
   "id": "7c11c3ea",
   "metadata": {},
   "outputs": [],
   "source": [
    "# set display options\n",
    "pd.set_option('display.max_colwidth', None)\n",
    "pd.set_option('display.max_rows', None)\n",
    "pd.set_option('display.max_columns', None)"
   ]
  },
  {
   "cell_type": "markdown",
   "id": "1fb09606",
   "metadata": {},
   "source": [
    "### Set up the training / testing datasets"
   ]
  },
  {
   "cell_type": "code",
   "execution_count": 3,
   "id": "a572789e",
   "metadata": {},
   "outputs": [],
   "source": [
    "# create alternate absolute paths for a pre-split training / testing dataset\n",
    "data_dir_train60 = os.path.dirname(os.getcwd()) + '\\\\data\\\\images-model\\\\train60\\\\'\n",
    "data_dir_val20 = os.path.dirname(os.getcwd()) + '\\\\data\\\\images-model\\\\validate20\\\\'\n",
    "data_dir_test20 = os.path.dirname(os.getcwd()) + '\\\\data\\\\images-model\\\\test20\\\\'\n",
    "\n",
    "# show the paths created\n",
    "# print(data_dir)\n",
    "# print(data_dir_train)\n",
    "# print(data_dir_test)"
   ]
  },
  {
   "cell_type": "code",
   "execution_count": 4,
   "id": "b6a4609e",
   "metadata": {},
   "outputs": [],
   "source": [
    "# set variables for the model here\n",
    "# number of images per batch\n",
    "batch_size = 32\n",
    "\n",
    "# all images have been resized to 558x558 pixels, the median size of a kithara in the dataset\n",
    "img_height = 558\n",
    "img_width = 558"
   ]
  },
  {
   "cell_type": "markdown",
   "id": "64c937e3",
   "metadata": {},
   "source": [
    "#### Option 2: Use the train/test split from notebook 02\n",
    "*Note that `shuffle = True` [by default](https://stackoverflow.com/questions/62166588/how-to-obtain-filenames-during-prediction-while-using-tf-keras-preprocessing-ima). Explicitly set `shuffle = False` for the validation dataset in order to ensure alignment across the labels and file names (see [documentation](https://www.tensorflow.org/api_docs/python/tf/keras/preprocessing/image_dataset_from_directory)).*"
   ]
  },
  {
   "cell_type": "code",
   "execution_count": 9,
   "id": "a179c340",
   "metadata": {},
   "outputs": [
    {
     "name": "stdout",
     "output_type": "stream",
     "text": [
      "Found 3246 files belonging to 2 classes.\n",
      "Found 1082 files belonging to 2 classes.\n",
      "Found 1082 files belonging to 2 classes.\n"
     ]
    }
   ],
   "source": [
    "# create a training and testing dataset from the pre-processed images\n",
    "# this code uses the train/test split already specified in notebook 02\n",
    "train60_ds = tf.keras.preprocessing.image_dataset_from_directory(\n",
    "    data_dir_train60,\n",
    "    image_size=(img_height, img_width),\n",
    "    batch_size=batch_size,\n",
    "    labels = 'inferred',\n",
    "    label_mode = 'categorical')\n",
    "\n",
    "# create a testing dataset from the pre-processed images\n",
    "test20_ds = tf.keras.preprocessing.image_dataset_from_directory(\n",
    "    data_dir_test20,\n",
    "    image_size=(img_height, img_width),\n",
    "    batch_size=batch_size,\n",
    "    labels = 'inferred',\n",
    "    shuffle = False, # make sure that the \n",
    "    label_mode = 'categorical')\n",
    "\n",
    "# create a testing dataset from the pre-processed images\n",
    "val20_ds = tf.keras.preprocessing.image_dataset_from_directory(\n",
    "    data_dir_val20,\n",
    "    image_size=(img_height, img_width),\n",
    "    batch_size=batch_size,\n",
    "    labels = 'inferred',\n",
    "    shuffle = False, # make sure that the \n",
    "    label_mode = 'categorical')"
   ]
  },
  {
   "cell_type": "code",
   "execution_count": 10,
   "id": "c5ec7ca7",
   "metadata": {},
   "outputs": [],
   "source": [
    "# create an image data generator for the training and testing images\n",
    "train_datagen = image.ImageDataGenerator(\n",
    "        rescale=1./255,\n",
    "        shear_range=0.2,\n",
    "        zoom_range=0.2,\n",
    "        horizontal_flip=True)\n",
    "\n",
    "test_datagen = image.ImageDataGenerator(rescale=1./255)"
   ]
  },
  {
   "cell_type": "code",
   "execution_count": 11,
   "id": "e9674524",
   "metadata": {},
   "outputs": [
    {
     "name": "stdout",
     "output_type": "stream",
     "text": [
      "Found 3246 images belonging to 2 classes.\n",
      "Found 1082 images belonging to 2 classes.\n",
      "Found 1082 images belonging to 2 classes.\n"
     ]
    }
   ],
   "source": [
    "# create a training and testing dataset from the pre-processed images\n",
    "# this code uses the train/test split already specified in notebook 02\n",
    "train_gen = train_datagen.flow_from_directory(\n",
    "    data_dir_train60,\n",
    "    target_size = (img_height, img_width),\n",
    "    batch_size = batch_size,\n",
    "    class_mode = 'categorical',\n",
    "    shuffle = True,\n",
    "    seed = 42)\n",
    "\n",
    "# create a validation dataset from the pre-processed images\n",
    "val_gen = test_datagen.flow_from_directory(\n",
    "    data_dir_val20,\n",
    "    target_size = (img_height, img_width),\n",
    "    batch_size = batch_size,\n",
    "    class_mode = 'categorical',\n",
    "    shuffle = False,\n",
    "    seed = 42)\n",
    "\n",
    "# create a testing dataset from the pre-processed images\n",
    "test_gen = test_datagen.flow_from_directory(\n",
    "    data_dir_test20,\n",
    "    target_size = (img_height, img_width),\n",
    "    batch_size = batch_size,\n",
    "    class_mode = 'categorical',\n",
    "    shuffle = False,\n",
    "    seed = 42)"
   ]
  },
  {
   "cell_type": "markdown",
   "id": "aa806ad9",
   "metadata": {},
   "source": [
    "#### Get some identifying information about the "
   ]
  },
  {
   "cell_type": "code",
   "execution_count": 12,
   "id": "0ac33d32",
   "metadata": {},
   "outputs": [],
   "source": [
    "# create a variable to store the filepaths for the files in the val_ds dataframe\n",
    "# we'll need this later to align the image IDs with the predictions\n",
    "filepaths = val20_ds.file_paths\n",
    "filepaths_test = test20_ds.file_paths\n",
    "# check the filepaths list created\n",
    "# filepaths"
   ]
  },
  {
   "cell_type": "code",
   "execution_count": 24,
   "id": "7508790b",
   "metadata": {},
   "outputs": [
    {
     "name": "stdout",
     "output_type": "stream",
     "text": [
      "[array([0, 0, 0, 0, 0, 0, 0, 0, 0, 0, 0, 0, 0, 0, 0, 0, 0, 0, 0, 0, 0, 0,\n",
      "       0, 0, 0, 0, 0, 0, 0, 0, 0, 0], dtype=int64), array([0, 0, 0, 0, 0, 0, 0, 0, 0, 0, 0, 0, 0, 0, 0, 0, 0, 0, 0, 0, 0, 0,\n",
      "       0, 0, 0, 0, 0, 0, 0, 0, 0, 0], dtype=int64), array([0, 0, 0, 0, 0, 0, 0, 0, 0, 0, 0, 0, 0, 0, 0, 0, 0, 0, 1, 1, 1, 1,\n",
      "       1, 1, 1, 1, 1, 1, 1, 1, 1, 1], dtype=int64), array([1, 1, 1, 1, 1, 1, 1, 1, 1, 1, 1, 1, 1, 1, 1, 1, 1, 1, 1, 1, 1, 1,\n",
      "       1, 1, 1, 1, 1, 1, 1, 1, 1, 1], dtype=int64), array([1, 1, 1, 1, 1, 1, 1, 1, 1, 1, 1, 1, 1, 1, 1, 1, 1, 1, 1, 1, 1, 1,\n",
      "       1, 1, 1, 1, 1, 1, 1, 1, 1, 1], dtype=int64), array([1, 1, 1, 1, 1, 1, 1, 1, 1, 1, 1, 1, 1, 1, 1, 1, 1, 1, 1, 1, 1, 1,\n",
      "       1, 1, 1, 1, 1, 1, 1, 1, 1, 1], dtype=int64), array([1, 1, 1, 1, 1, 1, 1, 1, 1, 1, 1, 1, 1, 1, 1, 1, 1, 1, 1, 1, 1, 1,\n",
      "       1, 1, 1, 1, 1, 1, 1, 1, 1, 1], dtype=int64), array([1, 1, 1, 1, 1, 1, 1, 1, 1, 1, 1, 1, 1, 1, 1, 1, 1, 1, 1, 1, 1, 1,\n",
      "       1, 1, 1, 1, 1, 1, 1, 1, 1, 1], dtype=int64), array([1, 1, 1, 1, 1, 1, 1, 1, 1, 1, 1, 1, 1, 1, 1, 1, 1, 1, 1, 1, 1, 1,\n",
      "       1, 1, 1, 1, 1, 1, 1, 1, 1, 1], dtype=int64), array([1, 1, 1, 1, 1, 1, 1, 1, 1, 1, 1, 1, 1, 1, 1, 1, 1, 1, 1, 1, 1, 1,\n",
      "       1, 1, 1, 1, 1, 1, 1, 1, 1, 1], dtype=int64), array([1, 1, 1, 1, 1, 1, 1, 1, 1, 1, 1, 1, 1, 1, 1, 1, 1, 1, 1, 1, 1, 1,\n",
      "       1, 1, 1, 1, 1, 1, 1, 1, 1, 1], dtype=int64), array([1, 1, 1, 1, 1, 1, 1, 1, 1, 1, 1, 1, 1, 1, 1, 1, 1, 1, 1, 1, 1, 1,\n",
      "       1, 1, 1, 1, 1, 1, 1, 1, 1, 1], dtype=int64), array([1, 1, 1, 1, 1, 1, 1, 1, 1, 1, 1, 1, 1, 1, 1, 1, 1, 1, 1, 1, 1, 1,\n",
      "       1, 1, 1, 1, 1, 1, 1, 1, 1, 1], dtype=int64), array([1, 1, 1, 1, 1, 1, 1, 1, 1, 1, 1, 1, 1, 1, 1, 1, 1, 1, 1, 1, 1, 1,\n",
      "       1, 1, 1, 1, 1, 1, 1, 1, 1, 1], dtype=int64), array([1, 1, 1, 1, 1, 1, 1, 1, 1, 1, 1, 1, 1, 1, 1, 1, 1, 1, 1, 1, 1, 1,\n",
      "       1, 1, 1, 1, 1, 1, 1, 1, 1, 1], dtype=int64), array([1, 1, 1, 1, 1, 1, 1, 1, 1, 1, 1, 1, 1, 1, 1, 1, 1, 1, 1, 1, 1, 1,\n",
      "       1, 1, 1, 1, 1, 1, 1, 1, 1, 1], dtype=int64), array([1, 1, 1, 1, 1, 1, 1, 1, 1, 1, 1, 1, 1, 1, 1, 1, 1, 1, 1, 1, 1, 1,\n",
      "       1, 1, 1, 1, 1, 1, 1, 1, 1, 1], dtype=int64), array([1, 1, 1, 1, 1, 1, 1, 1, 1, 1, 1, 1, 1, 1, 1, 1, 1, 1, 1, 1, 1, 1,\n",
      "       1, 1, 1, 1, 1, 1, 1, 1, 1, 1], dtype=int64), array([1, 1, 1, 1, 1, 1, 1, 1, 1, 1, 1, 1, 1, 1, 1, 1, 1, 1, 1, 1, 1, 1,\n",
      "       1, 1, 1, 1, 1, 1, 1, 1, 1, 1], dtype=int64), array([1, 1, 1, 1, 1, 1, 1, 1, 1, 1, 1, 1, 1, 1, 1, 1, 1, 1, 1, 1, 1, 1,\n",
      "       1, 1, 1, 1, 1, 1, 1, 1, 1, 1], dtype=int64), array([1, 1, 1, 1, 1, 1, 1, 1, 1, 1, 1, 1, 1, 1, 1, 1, 1, 1, 1, 1, 1, 1,\n",
      "       1, 1, 1, 1, 1, 1, 1, 1, 1, 1], dtype=int64), array([1, 1, 1, 1, 1, 1, 1, 1, 1, 1, 1, 1, 1, 1, 1, 1, 1, 1, 1, 1, 1, 1,\n",
      "       1, 1, 1, 1, 1, 1, 1, 1, 1, 1], dtype=int64), array([1, 1, 1, 1, 1, 1, 1, 1, 1, 1, 1, 1, 1, 1, 1, 1, 1, 1, 1, 1, 1, 1,\n",
      "       1, 1, 1, 1, 1, 1, 1, 1, 1, 1], dtype=int64), array([1, 1, 1, 1, 1, 1, 1, 1, 1, 1, 1, 1, 1, 1, 1, 1, 1, 1, 1, 1, 1, 1,\n",
      "       1, 1, 1, 1, 1, 1, 1, 1, 1, 1], dtype=int64), array([1, 1, 1, 1, 1, 1, 1, 1, 1, 1, 1, 1, 1, 1, 1, 1, 1, 1, 1, 1, 1, 1,\n",
      "       1, 1, 1, 1, 1, 1, 1, 1, 1, 1], dtype=int64), array([1, 1, 1, 1, 1, 1, 1, 1, 1, 1, 1, 1, 1, 1, 1, 1, 1, 1, 1, 1, 1, 1,\n",
      "       1, 1, 1, 1, 1, 1, 1, 1, 1, 1], dtype=int64), array([1, 1, 1, 1, 1, 1, 1, 1, 1, 1, 1, 1, 1, 1, 1, 1, 1, 1, 1, 1, 1, 1,\n",
      "       1, 1, 1, 1, 1, 1, 1, 1, 1, 1], dtype=int64), array([1, 1, 1, 1, 1, 1, 1, 1, 1, 1, 1, 1, 1, 1, 1, 1, 1, 1, 1, 1, 1, 1,\n",
      "       1, 1, 1, 1, 1, 1, 1, 1, 1, 1], dtype=int64), array([1, 1, 1, 1, 1, 1, 1, 1, 1, 1, 1, 1, 1, 1, 1, 1, 1, 1, 1, 1, 1, 1,\n",
      "       1, 1, 1, 1, 1, 1, 1, 1, 1, 1], dtype=int64), array([1, 1, 1, 1, 1, 1, 1, 1, 1, 1, 1, 1, 1, 1, 1, 1, 1, 1, 1, 1, 1, 1,\n",
      "       1, 1, 1, 1, 1, 1, 1, 1, 1, 1], dtype=int64), array([1, 1, 1, 1, 1, 1, 1, 1, 1, 1, 1, 1, 1, 1, 1, 1, 1, 1, 1, 1, 1, 1,\n",
      "       1, 1, 1, 1, 1, 1, 1, 1, 1, 1], dtype=int64), array([1, 1, 1, 1, 1, 1, 1, 1, 1, 1, 1, 1, 1, 1, 1, 1, 1, 1, 1, 1, 1, 1,\n",
      "       1, 1, 1, 1, 1, 1, 1, 1, 1, 1], dtype=int64), array([1, 1, 1, 1, 1, 1, 1, 1, 1, 1, 1, 1, 1, 1, 1, 1, 1, 1, 1, 1, 1, 1,\n",
      "       1, 1, 1, 1, 1, 1, 1, 1, 1, 1], dtype=int64), array([1, 1, 1, 1, 1, 1, 1, 1, 1, 1, 1, 1, 1, 1, 1, 1, 1, 1, 1, 1, 1, 1,\n",
      "       1, 1, 1, 1], dtype=int64)]\n",
      "[0 0 0 ... 1 1 1]\n",
      "1082\n",
      "[array([0, 0, 0, 0, 0, 0, 0, 0, 0, 0, 0, 0, 0, 0, 0, 0, 0, 0, 0, 0, 0, 0,\n",
      "       0, 0, 0, 0, 0, 0, 0, 0, 0, 0], dtype=int64), array([0, 0, 0, 0, 0, 0, 0, 0, 0, 0, 0, 0, 0, 0, 0, 0, 0, 0, 0, 0, 0, 0,\n",
      "       0, 0, 0, 0, 0, 0, 0, 0, 0, 0], dtype=int64), array([0, 0, 0, 0, 0, 0, 0, 0, 0, 0, 0, 0, 0, 0, 0, 0, 0, 0, 1, 1, 1, 1,\n",
      "       1, 1, 1, 1, 1, 1, 1, 1, 1, 1], dtype=int64), array([1, 1, 1, 1, 1, 1, 1, 1, 1, 1, 1, 1, 1, 1, 1, 1, 1, 1, 1, 1, 1, 1,\n",
      "       1, 1, 1, 1, 1, 1, 1, 1, 1, 1], dtype=int64), array([1, 1, 1, 1, 1, 1, 1, 1, 1, 1, 1, 1, 1, 1, 1, 1, 1, 1, 1, 1, 1, 1,\n",
      "       1, 1, 1, 1, 1, 1, 1, 1, 1, 1], dtype=int64), array([1, 1, 1, 1, 1, 1, 1, 1, 1, 1, 1, 1, 1, 1, 1, 1, 1, 1, 1, 1, 1, 1,\n",
      "       1, 1, 1, 1, 1, 1, 1, 1, 1, 1], dtype=int64), array([1, 1, 1, 1, 1, 1, 1, 1, 1, 1, 1, 1, 1, 1, 1, 1, 1, 1, 1, 1, 1, 1,\n",
      "       1, 1, 1, 1, 1, 1, 1, 1, 1, 1], dtype=int64), array([1, 1, 1, 1, 1, 1, 1, 1, 1, 1, 1, 1, 1, 1, 1, 1, 1, 1, 1, 1, 1, 1,\n",
      "       1, 1, 1, 1, 1, 1, 1, 1, 1, 1], dtype=int64), array([1, 1, 1, 1, 1, 1, 1, 1, 1, 1, 1, 1, 1, 1, 1, 1, 1, 1, 1, 1, 1, 1,\n",
      "       1, 1, 1, 1, 1, 1, 1, 1, 1, 1], dtype=int64), array([1, 1, 1, 1, 1, 1, 1, 1, 1, 1, 1, 1, 1, 1, 1, 1, 1, 1, 1, 1, 1, 1,\n",
      "       1, 1, 1, 1, 1, 1, 1, 1, 1, 1], dtype=int64), array([1, 1, 1, 1, 1, 1, 1, 1, 1, 1, 1, 1, 1, 1, 1, 1, 1, 1, 1, 1, 1, 1,\n",
      "       1, 1, 1, 1, 1, 1, 1, 1, 1, 1], dtype=int64), array([1, 1, 1, 1, 1, 1, 1, 1, 1, 1, 1, 1, 1, 1, 1, 1, 1, 1, 1, 1, 1, 1,\n",
      "       1, 1, 1, 1, 1, 1, 1, 1, 1, 1], dtype=int64), array([1, 1, 1, 1, 1, 1, 1, 1, 1, 1, 1, 1, 1, 1, 1, 1, 1, 1, 1, 1, 1, 1,\n",
      "       1, 1, 1, 1, 1, 1, 1, 1, 1, 1], dtype=int64), array([1, 1, 1, 1, 1, 1, 1, 1, 1, 1, 1, 1, 1, 1, 1, 1, 1, 1, 1, 1, 1, 1,\n",
      "       1, 1, 1, 1, 1, 1, 1, 1, 1, 1], dtype=int64), array([1, 1, 1, 1, 1, 1, 1, 1, 1, 1, 1, 1, 1, 1, 1, 1, 1, 1, 1, 1, 1, 1,\n",
      "       1, 1, 1, 1, 1, 1, 1, 1, 1, 1], dtype=int64), array([1, 1, 1, 1, 1, 1, 1, 1, 1, 1, 1, 1, 1, 1, 1, 1, 1, 1, 1, 1, 1, 1,\n",
      "       1, 1, 1, 1, 1, 1, 1, 1, 1, 1], dtype=int64), array([1, 1, 1, 1, 1, 1, 1, 1, 1, 1, 1, 1, 1, 1, 1, 1, 1, 1, 1, 1, 1, 1,\n",
      "       1, 1, 1, 1, 1, 1, 1, 1, 1, 1], dtype=int64), array([1, 1, 1, 1, 1, 1, 1, 1, 1, 1, 1, 1, 1, 1, 1, 1, 1, 1, 1, 1, 1, 1,\n",
      "       1, 1, 1, 1, 1, 1, 1, 1, 1, 1], dtype=int64), array([1, 1, 1, 1, 1, 1, 1, 1, 1, 1, 1, 1, 1, 1, 1, 1, 1, 1, 1, 1, 1, 1,\n",
      "       1, 1, 1, 1, 1, 1, 1, 1, 1, 1], dtype=int64), array([1, 1, 1, 1, 1, 1, 1, 1, 1, 1, 1, 1, 1, 1, 1, 1, 1, 1, 1, 1, 1, 1,\n",
      "       1, 1, 1, 1, 1, 1, 1, 1, 1, 1], dtype=int64), array([1, 1, 1, 1, 1, 1, 1, 1, 1, 1, 1, 1, 1, 1, 1, 1, 1, 1, 1, 1, 1, 1,\n",
      "       1, 1, 1, 1, 1, 1, 1, 1, 1, 1], dtype=int64), array([1, 1, 1, 1, 1, 1, 1, 1, 1, 1, 1, 1, 1, 1, 1, 1, 1, 1, 1, 1, 1, 1,\n",
      "       1, 1, 1, 1, 1, 1, 1, 1, 1, 1], dtype=int64), array([1, 1, 1, 1, 1, 1, 1, 1, 1, 1, 1, 1, 1, 1, 1, 1, 1, 1, 1, 1, 1, 1,\n",
      "       1, 1, 1, 1, 1, 1, 1, 1, 1, 1], dtype=int64), array([1, 1, 1, 1, 1, 1, 1, 1, 1, 1, 1, 1, 1, 1, 1, 1, 1, 1, 1, 1, 1, 1,\n",
      "       1, 1, 1, 1, 1, 1, 1, 1, 1, 1], dtype=int64), array([1, 1, 1, 1, 1, 1, 1, 1, 1, 1, 1, 1, 1, 1, 1, 1, 1, 1, 1, 1, 1, 1,\n",
      "       1, 1, 1, 1, 1, 1, 1, 1, 1, 1], dtype=int64), array([1, 1, 1, 1, 1, 1, 1, 1, 1, 1, 1, 1, 1, 1, 1, 1, 1, 1, 1, 1, 1, 1,\n",
      "       1, 1, 1, 1, 1, 1, 1, 1, 1, 1], dtype=int64), array([1, 1, 1, 1, 1, 1, 1, 1, 1, 1, 1, 1, 1, 1, 1, 1, 1, 1, 1, 1, 1, 1,\n",
      "       1, 1, 1, 1, 1, 1, 1, 1, 1, 1], dtype=int64), array([1, 1, 1, 1, 1, 1, 1, 1, 1, 1, 1, 1, 1, 1, 1, 1, 1, 1, 1, 1, 1, 1,\n",
      "       1, 1, 1, 1, 1, 1, 1, 1, 1, 1], dtype=int64), array([1, 1, 1, 1, 1, 1, 1, 1, 1, 1, 1, 1, 1, 1, 1, 1, 1, 1, 1, 1, 1, 1,\n",
      "       1, 1, 1, 1, 1, 1, 1, 1, 1, 1], dtype=int64), array([1, 1, 1, 1, 1, 1, 1, 1, 1, 1, 1, 1, 1, 1, 1, 1, 1, 1, 1, 1, 1, 1,\n",
      "       1, 1, 1, 1, 1, 1, 1, 1, 1, 1], dtype=int64), array([1, 1, 1, 1, 1, 1, 1, 1, 1, 1, 1, 1, 1, 1, 1, 1, 1, 1, 1, 1, 1, 1,\n",
      "       1, 1, 1, 1, 1, 1, 1, 1, 1, 1], dtype=int64), array([1, 1, 1, 1, 1, 1, 1, 1, 1, 1, 1, 1, 1, 1, 1, 1, 1, 1, 1, 1, 1, 1,\n",
      "       1, 1, 1, 1, 1, 1, 1, 1, 1, 1], dtype=int64), array([1, 1, 1, 1, 1, 1, 1, 1, 1, 1, 1, 1, 1, 1, 1, 1, 1, 1, 1, 1, 1, 1,\n",
      "       1, 1, 1, 1, 1, 1, 1, 1, 1, 1], dtype=int64), array([1, 1, 1, 1, 1, 1, 1, 1, 1, 1, 1, 1, 1, 1, 1, 1, 1, 1, 1, 1, 1, 1,\n",
      "       1, 1, 1, 1], dtype=int64)]\n",
      "[0 0 0 ... 1 1 1]\n",
      "1082\n"
     ]
    }
   ],
   "source": [
    "# # DO NOT USE THIS TO GET THE ACTUAL KITHARA / NO-KITHARA LABELS FOR THE IMAGES\n",
    "# # STILL NEED TO DETERMINE WHY THE ARRAY CHANGES ORDER EVERY TIME IT IS RUN\n",
    "val_labels = [np.argmax(y.numpy(), axis = -1) for _, y in val20_ds]\n",
    "print(val_labels)\n",
    "val_labels = np.concatenate(val_labels)\n",
    "print(val_labels)\n",
    "print(len(val_labels))\n",
    "\n",
    "test_labels = [np.argmax(y.numpy(), axis = -1) for _, y in test20_ds]\n",
    "print(test_labels)\n",
    "test_labels = np.concatenate(test_labels)\n",
    "print(test_labels)\n",
    "print(len(test_labels))"
   ]
  },
  {
   "cell_type": "code",
   "execution_count": 10,
   "id": "b56b4c6f",
   "metadata": {},
   "outputs": [
    {
     "name": "stdout",
     "output_type": "stream",
     "text": [
      "['kithara', 'no-kithara']\n"
     ]
    }
   ],
   "source": [
    "# xheck that the class names are as anticipated\n",
    "class_names = train_ds.class_names\n",
    "print(class_names)"
   ]
  },
  {
   "cell_type": "code",
   "execution_count": 11,
   "id": "1df85927",
   "metadata": {
    "scrolled": true
   },
   "outputs": [
    {
     "name": "stdout",
     "output_type": "stream",
     "text": [
      "(32, 558, 558, 3)\n",
      "(32, 2)\n"
     ]
    }
   ],
   "source": [
    "# check the batch shapes in the training dataset\n",
    "for image_batch, labels_batch in train_ds:\n",
    "    print(image_batch.shape)\n",
    "    print(labels_batch.shape)\n",
    "    break"
   ]
  },
  {
   "cell_type": "markdown",
   "id": "74e557a5",
   "metadata": {},
   "source": [
    "*Note that the following cell is intended to improve the performance of the model and overall memory / CPU usage, in line with the [Keras Performance Recommendations](https://www.tensorflow.org/datasets/performances).*"
   ]
  },
  {
   "cell_type": "markdown",
   "id": "a9ffd76d",
   "metadata": {},
   "source": [
    "### Build a base model from the inceptionv3 model architecture"
   ]
  },
  {
   "cell_type": "code",
   "execution_count": 15,
   "id": "fourth-helping",
   "metadata": {
    "scrolled": true
   },
   "outputs": [],
   "source": [
    "# create the base pre-trained model\n",
    "# note that if this does not run, downgrade h5py\n",
    "# pip install \"h5py==2.10.0\" --force-reinstall\n",
    "base_model = applications.InceptionV3(weights = 'imagenet',\n",
    "                                      include_top=False,\n",
    "                                      input_shape = (img_height, img_width, 3))"
   ]
  },
  {
   "cell_type": "markdown",
   "id": "422b4f6e",
   "metadata": {},
   "source": [
    "### Add customizations to the base model for model01"
   ]
  },
  {
   "cell_type": "code",
   "execution_count": 19,
   "id": "inclusive-dress",
   "metadata": {},
   "outputs": [],
   "source": [
    "# add a global spatial average pooling layer\n",
    "x = base_model.output\n",
    "x = GlobalAveragePooling2D()(x)\n",
    "# add a fully-connected layer\n",
    "x = Dense(1024, activation='relu')(x)\n",
    "# and add a logistic layer -- output should be the number of classes (in this case, 2)\n",
    "predictions = Dense(2, activation='softmax')(x)"
   ]
  },
  {
   "cell_type": "code",
   "execution_count": 20,
   "id": "threatened-pennsylvania",
   "metadata": {},
   "outputs": [],
   "source": [
    "# this is the model we will train\n",
    "model = Model(inputs=base_model.input, outputs=predictions)"
   ]
  },
  {
   "cell_type": "code",
   "execution_count": 21,
   "id": "concerned-petite",
   "metadata": {},
   "outputs": [],
   "source": [
    "# first: train only the top layers (which were randomly initialized)\n",
    "# i.e. freeze all convolutional InceptionV3 layers\n",
    "for layer in base_model.layers:\n",
    "    layer.trainable = False"
   ]
  },
  {
   "cell_type": "code",
   "execution_count": 22,
   "id": "cloudy-ethnic",
   "metadata": {},
   "outputs": [],
   "source": [
    "# compile the model (should be done *after* setting layers to non-trainable)\n",
    "model.compile(optimizer='rmsprop',\n",
    "              loss='binary_crossentropy',\n",
    "              metrics = ['BinaryAccuracy',\n",
    "                        'FalseNegatives',\n",
    "                        'FalsePositives',\n",
    "                        'TrueNegatives',\n",
    "                        'TruePositives',\n",
    "                        'AUC',\n",
    "                        'Precision',\n",
    "                        'Recall'])"
   ]
  },
  {
   "cell_type": "code",
   "execution_count": 23,
   "id": "d4005e11",
   "metadata": {},
   "outputs": [],
   "source": [
    "checkpoint_path = 'model_checkpoints/training_03/cp-{epoch}.ckpt'\n",
    "checkpoint_dir = os.path.dirname(checkpoint_path)\n",
    "\n",
    "# create a callback that saves the model's weights after each training run\n",
    "cp_callback = tf.keras.callbacks.ModelCheckpoint(filepath=checkpoint_path,\n",
    "                                                 save_weights_only=True,\n",
    "                                                 verbose=1,\n",
    "                                                 save_freq = 'epoch')"
   ]
  },
  {
   "cell_type": "markdown",
   "id": "e2208d15",
   "metadata": {},
   "source": [
    "### Fit model01 on the normalized training data"
   ]
  },
  {
   "cell_type": "code",
   "execution_count": 63,
   "id": "4f24cbc4",
   "metadata": {
    "scrolled": true
   },
   "outputs": [
    {
     "name": "stdout",
     "output_type": "stream",
     "text": [
      "Epoch 1/10\n",
      "127/127 [==============================] - 1301s 10s/step - loss: 0.1891 - binary_accuracy: 0.9199 - false_negatives: 325.0000 - false_positives: 325.0000 - true_negatives: 3732.0000 - true_positives: 3732.0000 - auc: 0.9782 - precision: 0.9199 - recall: 0.9199 - val_loss: 0.0994 - val_binary_accuracy: 0.9616 - val_false_negatives: 52.0000 - val_false_positives: 52.0000 - val_true_negatives: 1301.0000 - val_true_positives: 1301.0000 - val_auc: 0.9939 - val_precision: 0.9616 - val_recall: 0.9616\n",
      "Epoch 2/10\n",
      "127/127 [==============================] - 1274s 10s/step - loss: 0.1207 - binary_accuracy: 0.9502 - false_negatives: 202.0000 - false_positives: 202.0000 - true_negatives: 3855.0000 - true_positives: 3855.0000 - auc: 0.9870 - precision: 0.9502 - recall: 0.9502 - val_loss: 0.1136 - val_binary_accuracy: 0.9557 - val_false_negatives: 60.0000 - val_false_positives: 60.0000 - val_true_negatives: 1293.0000 - val_true_positives: 1293.0000 - val_auc: 0.9861 - val_precision: 0.9557 - val_recall: 0.9557\n",
      "Epoch 3/10\n",
      "127/127 [==============================] - 1266s 10s/step - loss: 0.0956 - binary_accuracy: 0.9586 - false_negatives: 168.0000 - false_positives: 168.0000 - true_negatives: 3889.0000 - true_positives: 3889.0000 - auc: 0.9907 - precision: 0.9586 - recall: 0.9586 - val_loss: 0.0932 - val_binary_accuracy: 0.9653 - val_false_negatives: 47.0000 - val_false_positives: 47.0000 - val_true_negatives: 1306.0000 - val_true_positives: 1306.0000 - val_auc: 0.9881 - val_precision: 0.9653 - val_recall: 0.9653\n",
      "Epoch 4/10\n",
      "127/127 [==============================] - 1265s 10s/step - loss: 0.0911 - binary_accuracy: 0.9638 - false_negatives: 147.0000 - false_positives: 147.0000 - true_negatives: 3910.0000 - true_positives: 3910.0000 - auc: 0.9903 - precision: 0.9638 - recall: 0.9638 - val_loss: 0.1634 - val_binary_accuracy: 0.9283 - val_false_negatives: 97.0000 - val_false_positives: 97.0000 - val_true_negatives: 1256.0000 - val_true_positives: 1256.0000 - val_auc: 0.9775 - val_precision: 0.9283 - val_recall: 0.9283\n",
      "Epoch 5/10\n",
      "127/127 [==============================] - 1265s 10s/step - loss: 0.0886 - binary_accuracy: 0.9633 - false_negatives: 149.0000 - false_positives: 149.0000 - true_negatives: 3908.0000 - true_positives: 3908.0000 - auc: 0.9907 - precision: 0.9633 - recall: 0.9633 - val_loss: 0.1163 - val_binary_accuracy: 0.9586 - val_false_negatives: 56.0000 - val_false_positives: 56.0000 - val_true_negatives: 1297.0000 - val_true_positives: 1297.0000 - val_auc: 0.9810 - val_precision: 0.9586 - val_recall: 0.9586\n",
      "Epoch 6/10\n",
      "127/127 [==============================] - 1258s 10s/step - loss: 0.0776 - binary_accuracy: 0.9680 - false_negatives: 130.0000 - false_positives: 130.0000 - true_negatives: 3927.0000 - true_positives: 3927.0000 - auc: 0.9923 - precision: 0.9680 - recall: 0.9680 - val_loss: 0.0724 - val_binary_accuracy: 0.9660 - val_false_negatives: 46.0000 - val_false_positives: 46.0000 - val_true_negatives: 1307.0000 - val_true_positives: 1307.0000 - val_auc: 0.9944 - val_precision: 0.9660 - val_recall: 0.9660\n",
      "Epoch 7/10\n",
      "127/127 [==============================] - 1273s 10s/step - loss: 0.0689 - binary_accuracy: 0.9697 - false_negatives: 123.0000 - false_positives: 123.0000 - true_negatives: 3934.0000 - true_positives: 3934.0000 - auc: 0.9937 - precision: 0.9697 - recall: 0.9697 - val_loss: 0.1014 - val_binary_accuracy: 0.9660 - val_false_negatives: 46.0000 - val_false_positives: 46.0000 - val_true_negatives: 1307.0000 - val_true_positives: 1307.0000 - val_auc: 0.9839 - val_precision: 0.9660 - val_recall: 0.9660\n",
      "Epoch 8/10\n",
      "127/127 [==============================] - 1261s 10s/step - loss: 0.0659 - binary_accuracy: 0.9744 - false_negatives: 104.0000 - false_positives: 104.0000 - true_negatives: 3953.0000 - true_positives: 3953.0000 - auc: 0.9943 - precision: 0.9744 - recall: 0.9744 - val_loss: 0.0716 - val_binary_accuracy: 0.9704 - val_false_negatives: 40.0000 - val_false_positives: 40.0000 - val_true_negatives: 1313.0000 - val_true_positives: 1313.0000 - val_auc: 0.9941 - val_precision: 0.9704 - val_recall: 0.9704\n",
      "Epoch 9/10\n",
      "127/127 [==============================] - 8635s 68s/step - loss: 0.0562 - binary_accuracy: 0.9766 - false_negatives: 95.0000 - false_positives: 95.0000 - true_negatives: 3962.0000 - true_positives: 3962.0000 - auc: 0.9943 - precision: 0.9766 - recall: 0.9766 - val_loss: 0.0828 - val_binary_accuracy: 0.9712 - val_false_negatives: 39.0000 - val_false_positives: 39.0000 - val_true_negatives: 1314.0000 - val_true_positives: 1314.0000 - val_auc: 0.9882 - val_precision: 0.9712 - val_recall: 0.9712\n",
      "Epoch 10/10\n",
      "127/127 [==============================] - 1251s 10s/step - loss: 0.0526 - binary_accuracy: 0.9793 - false_negatives: 84.0000 - false_positives: 84.0000 - true_negatives: 3973.0000 - true_positives: 3973.0000 - auc: 0.9960 - precision: 0.9793 - recall: 0.9793 - val_loss: 0.0747 - val_binary_accuracy: 0.9682 - val_false_negatives: 43.0000 - val_false_positives: 43.0000 - val_true_negatives: 1310.0000 - val_true_positives: 1310.0000 - val_auc: 0.9920 - val_precision: 0.9682 - val_recall: 0.9682\n"
     ]
    }
   ],
   "source": [
    "# set the number of passes over the entire dataset as the number of epochs\n",
    "epochs = 15\n",
    "\n",
    "# fit the model based on the normalized training data\n",
    "# write the comparative metrics on the normalized training and testing data to history\n",
    "history = model.fit(\n",
    "  train60_ds,\n",
    "  validation_data = val20_ds,\n",
    "  epochs=epochs\n",
    ")"
   ]
  },
  {
   "cell_type": "markdown",
   "id": "7fc84287",
   "metadata": {},
   "source": [
    "### Predict the probability that an image contains a kithara based on model01"
   ]
  },
  {
   "cell_type": "code",
   "execution_count": 64,
   "id": "8efd2344",
   "metadata": {},
   "outputs": [],
   "source": [
    "# predict the probability of kithara / no-kithara label of the normalized_val_ds images\n",
    "# N.B. COMMENT OUT THIS CELL ONCE IT HAS BEEN RUN TO PREVENT ACCIDENTALLY RE-RUNNING IT\n",
    "test_predictions = model.predict(test20_ds)"
   ]
  },
  {
   "cell_type": "code",
   "execution_count": 65,
   "id": "1de70b02",
   "metadata": {},
   "outputs": [
    {
     "name": "stdout",
     "output_type": "stream",
     "text": [
      "[8.6093063e-22 1.0236905e-06]\n",
      "[0.9999989 1.       ]\n",
      "['kithara', 'no-kithara']\n",
      "[[6.26443503e-15 1.00000000e+00]\n",
      " [8.02905728e-11 1.00000000e+00]\n",
      " [1.63888356e-14 1.00000000e+00]\n",
      " ...\n",
      " [1.33343939e-15 1.00000000e+00]\n",
      " [1.01064375e-08 1.00000000e+00]\n",
      " [1.93719760e-17 1.00000000e+00]]\n"
     ]
    }
   ],
   "source": [
    "# check the min/max probabilities of predicted kithara / no-kithara labels\n",
    "print(test_predictions.min(axis = 0))\n",
    "print(test_predictions.max(axis = 0))\n",
    "\n",
    "# print the names of the classes for clarity\n",
    "print(class_names)\n",
    "\n",
    "# return the array of predictions\n",
    "print(test_predictions)"
   ]
  },
  {
   "cell_type": "code",
   "execution_count": 66,
   "id": "bc96d3e2",
   "metadata": {},
   "outputs": [
    {
     "name": "stdout",
     "output_type": "stream",
     "text": [
      "[1 1 1 ... 1 1 1]\n"
     ]
    }
   ],
   "source": [
    "# convert the probabilities into a binary class prediction\n",
    "# adjust the threshold as needed to optimize for precision / recall\n",
    "# N.B. the threshold is set based on probability of a `no-kithara` label\n",
    "predicted_class = (test_predictions[:,1]>=0.5).astype(int)\n",
    "print(predicted_class)"
   ]
  },
  {
   "cell_type": "markdown",
   "id": "896d1bf6",
   "metadata": {},
   "source": [
    "### Model01 performance analysis\n",
    "*Performance analysis for model01, a 10-epoch inceptionv3 instance with two additional layers trained on images that have only been normalized to 0-1 as opposed to 0-255 per pixel value.*"
   ]
  },
  {
   "cell_type": "code",
   "execution_count": 68,
   "id": "6e0a7da9",
   "metadata": {},
   "outputs": [
    {
     "data": {
      "text/plain": [
       "{'loss': [0.18910625576972961,\n",
       "  0.12069103121757507,\n",
       "  0.09559719264507294,\n",
       "  0.09108439832925797,\n",
       "  0.08861461281776428,\n",
       "  0.07763504981994629,\n",
       "  0.06892059743404388,\n",
       "  0.06594407558441162,\n",
       "  0.05618894845247269,\n",
       "  0.05260312557220459],\n",
       " 'binary_accuracy': [0.9198915362358093,\n",
       "  0.9502094984054565,\n",
       "  0.9585900902748108,\n",
       "  0.96376633644104,\n",
       "  0.9632733464241028,\n",
       "  0.9679566025733948,\n",
       "  0.9696820378303528,\n",
       "  0.9743652939796448,\n",
       "  0.9765836596488953,\n",
       "  0.9792950749397278],\n",
       " 'false_negatives': [325.0,\n",
       "  202.0,\n",
       "  168.0,\n",
       "  147.0,\n",
       "  149.0,\n",
       "  130.0,\n",
       "  123.0,\n",
       "  104.0,\n",
       "  95.0,\n",
       "  84.0],\n",
       " 'false_positives': [325.0,\n",
       "  202.0,\n",
       "  168.0,\n",
       "  147.0,\n",
       "  149.0,\n",
       "  130.0,\n",
       "  123.0,\n",
       "  104.0,\n",
       "  95.0,\n",
       "  84.0],\n",
       " 'true_negatives': [3732.0,\n",
       "  3855.0,\n",
       "  3889.0,\n",
       "  3910.0,\n",
       "  3908.0,\n",
       "  3927.0,\n",
       "  3934.0,\n",
       "  3953.0,\n",
       "  3962.0,\n",
       "  3973.0],\n",
       " 'true_positives': [3732.0,\n",
       "  3855.0,\n",
       "  3889.0,\n",
       "  3910.0,\n",
       "  3908.0,\n",
       "  3927.0,\n",
       "  3934.0,\n",
       "  3953.0,\n",
       "  3962.0,\n",
       "  3973.0],\n",
       " 'auc': [0.9782100319862366,\n",
       "  0.9869801998138428,\n",
       "  0.9906916618347168,\n",
       "  0.990309476852417,\n",
       "  0.9906871914863586,\n",
       "  0.9923006892204285,\n",
       "  0.9936643242835999,\n",
       "  0.9943350553512573,\n",
       "  0.9943423271179199,\n",
       "  0.9960296750068665],\n",
       " 'precision': [0.9198915362358093,\n",
       "  0.9502094984054565,\n",
       "  0.9585900902748108,\n",
       "  0.96376633644104,\n",
       "  0.9632733464241028,\n",
       "  0.9679566025733948,\n",
       "  0.9696820378303528,\n",
       "  0.9743652939796448,\n",
       "  0.9765836596488953,\n",
       "  0.9792950749397278],\n",
       " 'recall': [0.9198915362358093,\n",
       "  0.9502094984054565,\n",
       "  0.9585900902748108,\n",
       "  0.96376633644104,\n",
       "  0.9632733464241028,\n",
       "  0.9679566025733948,\n",
       "  0.9696820378303528,\n",
       "  0.9743652939796448,\n",
       "  0.9765836596488953,\n",
       "  0.9792950749397278],\n",
       " 'val_loss': [0.09939809888601303,\n",
       "  0.11357571184635162,\n",
       "  0.0932420864701271,\n",
       "  0.1634175032377243,\n",
       "  0.11629660427570343,\n",
       "  0.07236775755882263,\n",
       "  0.10138891637325287,\n",
       "  0.0715780183672905,\n",
       "  0.08279954642057419,\n",
       "  0.07474386692047119],\n",
       " 'val_binary_accuracy': [0.9615668654441833,\n",
       "  0.9556540846824646,\n",
       "  0.9652623534202576,\n",
       "  0.9283074736595154,\n",
       "  0.958610475063324,\n",
       "  0.9660014510154724,\n",
       "  0.9660014510154724,\n",
       "  0.9704360961914062,\n",
       "  0.9711751937866211,\n",
       "  0.9682187438011169],\n",
       " 'val_false_negatives': [52.0,\n",
       "  60.0,\n",
       "  47.0,\n",
       "  97.0,\n",
       "  56.0,\n",
       "  46.0,\n",
       "  46.0,\n",
       "  40.0,\n",
       "  39.0,\n",
       "  43.0],\n",
       " 'val_false_positives': [52.0,\n",
       "  60.0,\n",
       "  47.0,\n",
       "  97.0,\n",
       "  56.0,\n",
       "  46.0,\n",
       "  46.0,\n",
       "  40.0,\n",
       "  39.0,\n",
       "  43.0],\n",
       " 'val_true_negatives': [1301.0,\n",
       "  1293.0,\n",
       "  1306.0,\n",
       "  1256.0,\n",
       "  1297.0,\n",
       "  1307.0,\n",
       "  1307.0,\n",
       "  1313.0,\n",
       "  1314.0,\n",
       "  1310.0],\n",
       " 'val_true_positives': [1301.0,\n",
       "  1293.0,\n",
       "  1306.0,\n",
       "  1256.0,\n",
       "  1297.0,\n",
       "  1307.0,\n",
       "  1307.0,\n",
       "  1313.0,\n",
       "  1314.0,\n",
       "  1310.0],\n",
       " 'val_auc': [0.9938551783561707,\n",
       "  0.9861286878585815,\n",
       "  0.9881044626235962,\n",
       "  0.977517306804657,\n",
       "  0.9810451865196228,\n",
       "  0.9943898320198059,\n",
       "  0.9839041829109192,\n",
       "  0.9941388368606567,\n",
       "  0.9881728887557983,\n",
       "  0.9919973015785217],\n",
       " 'val_precision': [0.9615668654441833,\n",
       "  0.9556540846824646,\n",
       "  0.9652623534202576,\n",
       "  0.9283074736595154,\n",
       "  0.958610475063324,\n",
       "  0.9660014510154724,\n",
       "  0.9660014510154724,\n",
       "  0.9704360961914062,\n",
       "  0.9711751937866211,\n",
       "  0.9682187438011169],\n",
       " 'val_recall': [0.9615668654441833,\n",
       "  0.9556540846824646,\n",
       "  0.9652623534202576,\n",
       "  0.9283074736595154,\n",
       "  0.958610475063324,\n",
       "  0.9660014510154724,\n",
       "  0.9660014510154724,\n",
       "  0.9704360961914062,\n",
       "  0.9711751937866211,\n",
       "  0.9682187438011169]}"
      ]
     },
     "execution_count": 68,
     "metadata": {},
     "output_type": "execute_result"
    }
   ],
   "source": [
    "# take a look at the metrics from each epoch\n",
    "history.history"
   ]
  },
  {
   "cell_type": "code",
   "execution_count": 69,
   "id": "50625768",
   "metadata": {
    "scrolled": true
   },
   "outputs": [
    {
     "data": {
      "image/png": "[encoded data removed]",
      "text/plain": [
       "<Figure size 576x576 with 2 Axes>"
      ]
     },
     "metadata": {
      "needs_background": "light"
     },
     "output_type": "display_data"
    }
   ],
   "source": [
    "# visualize the model's performance epoch-by-epoch\n",
    "\n",
    "# set accuracy variables\n",
    "acc = history.history['binary_accuracy']\n",
    "val_acc = history.history['val_binary_accuracy']\n",
    "\n",
    "# set loss variables\n",
    "loss = history.history['loss']\n",
    "val_loss = history.history['val_loss']\n",
    "\n",
    "# set epoch range\n",
    "epochs_range = range(epochs)\n",
    "\n",
    "# plot accuracy for training vs. testing dataset\n",
    "plt.figure(figsize=(8, 8))\n",
    "plt.subplot(1, 2, 1)\n",
    "plt.plot(epochs_range, acc, label='Training Accuracy')\n",
    "plt.plot(epochs_range, val_acc, label='Testing Accuracy')\n",
    "plt.legend(loc='lower right')\n",
    "plt.title('Training and Testing Accuracy')\n",
    "\n",
    "# plot loss for training vs. testing dataset\n",
    "plt.subplot(1, 2, 2)\n",
    "plt.plot(epochs_range, loss, label='Training Loss')\n",
    "plt.plot(epochs_range, val_loss, label='Testing Loss')\n",
    "plt.legend(loc='upper right')\n",
    "plt.title('Training and Testing Loss')\n",
    "plt.show()"
   ]
  },
  {
   "cell_type": "code",
   "execution_count": 70,
   "id": "ba9343b8",
   "metadata": {},
   "outputs": [
    {
     "name": "stdout",
     "output_type": "stream",
     "text": [
      "0.9682187730968219\n",
      "0.9901825242718447\n",
      "              precision    recall  f1-score   support\n",
      "\n",
      "     kithara       0.76      0.84      0.80       103\n",
      "  no-kithara       0.99      0.98      0.98      1250\n",
      "\n",
      "    accuracy                           0.97      1353\n",
      "   macro avg       0.88      0.91      0.89      1353\n",
      "weighted avg       0.97      0.97      0.97      1353\n",
      "\n"
     ]
    }
   ],
   "source": [
    "# print the accuracy of the kithara identification compared to the predicted class with the threshold set above\n",
    "print(accuracy_score(test20_labels, predicted_class))\n",
    "\n",
    "# print the AUC for the model\n",
    "print(roc_auc_score(test20_labels, test_predictions[:,1]))\n",
    "\n",
    "# print the overall classification report with precision, recall, accuracy, and f1-scores\n",
    "print(classification_report(test20_labels, predicted_class, target_names = class_names))"
   ]
  },
  {
   "cell_type": "code",
   "execution_count": null,
   "id": "86e0895c",
   "metadata": {},
   "outputs": [],
   "source": [
    "# create a dataframe to hold the filenames, actual values, and predicted no-kithara probability\n",
    "pred_df = pd.DataFrame({'filepath': filepaths, 'actuals': test_labels, 'predictions': test_predictions[:,0]})\n",
    "\n",
    "# take a look at the dataframe where the known value was a kithara\n",
    "pred_df[pred_df['actuals'] == 0].sort_values('predictions')"
   ]
  },
  {
   "cell_type": "code",
   "execution_count": null,
   "id": "e0ea7a78",
   "metadata": {},
   "outputs": [],
   "source": [
    "# # check to see if specific images are included in the training dataset\n",
    "# pred_df01[pred_df01['filepath'].str.contains('IMAG9081')]"
   ]
  },
  {
   "cell_type": "markdown",
   "id": "b4dbbbf4",
   "metadata": {},
   "source": [
    "### To train on more layers:"
   ]
  },
  {
   "cell_type": "code",
   "execution_count": null,
   "id": "english-option",
   "metadata": {},
   "outputs": [],
   "source": [
    "# look at the inceptionv3 layer names and layer indices to see how many layers the base model has\n",
    "for i, layer in enumerate(base_model.layers):\n",
    "    print(i, layer.name)"
   ]
  },
  {
   "cell_type": "code",
   "execution_count": null,
   "id": "tamil-classification",
   "metadata": {},
   "outputs": [],
   "source": [
    "# we chose to train the top 2 inception blocks, i.e. we will freeze\n",
    "# the first 249 layers and unfreeze the rest:\n",
    "for layer in model.layers[:249]:\n",
    "   layer.trainable = False\n",
    "for layer in model.layers[249:]:\n",
    "   layer.trainable = True"
   ]
  },
  {
   "cell_type": "code",
   "execution_count": null,
   "id": "viral-transfer",
   "metadata": {},
   "outputs": [],
   "source": [
    "# we need to recompile the model for these modifications to take effect\n",
    "# we use SGD with a low learning rate\n",
    "model.compile(optimizer=SGD(lr=0.0001, momentum=0.9), loss='categorical_crossentropy')"
   ]
  }
 ],
 "metadata": {
  "kernelspec": {
   "display_name": "Python 3",
   "language": "python",
   "name": "python3"
  },
  "language_info": {
   "codemirror_mode": {
    "name": "ipython",
    "version": 3
   },
   "file_extension": ".py",
   "mimetype": "text/x-python",
   "name": "python",
   "nbconvert_exporter": "python",
   "pygments_lexer": "ipython3",
   "version": "3.9.4"
  }
 },
 "nbformat": 4,
 "nbformat_minor": 5
}
