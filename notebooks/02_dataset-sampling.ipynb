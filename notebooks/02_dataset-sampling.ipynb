{
 "cells": [
  {
   "cell_type": "markdown",
   "metadata": {},
   "source": [
    "# Sample the Image Dataset\n",
    "\n",
    "*This notebook explores the images generated from the first notebook and samples down the image dataset, using a train/test split, in order to optimize the data to run on a locally-built model.*"
   ]
  },
  {
   "cell_type": "code",
   "execution_count": 1,
   "metadata": {},
   "outputs": [],
   "source": [
    "# import libraries\n",
    "import pandas as pd\n",
    "import numpy as np\n",
    "import cv2\n",
    "import glob\n",
    "from sklearn.model_selection import train_test_split as tts\n",
    "import os\n",
    "import shutil\n",
    "import csv"
   ]
  },
  {
   "cell_type": "markdown",
   "metadata": {},
   "source": [
    "### Explore the Dataset\n",
    "#### Check to see if both color and grayscale images are formatted correctly\n",
    "*Note that Inceptionv3 only takes RGB images, not grayscale, due to the dataset on which it was trained.*"
   ]
  },
  {
   "cell_type": "code",
   "execution_count": 2,
   "metadata": {},
   "outputs": [
    {
     "name": "stdout",
     "output_type": "stream",
     "text": [
      "(558, 558, 3)\n",
      "(558, 558, 3)\n"
     ]
    }
   ],
   "source": [
    "# read in a color image\n",
    "color = cv2.imread(\"../data/images-cropped/kithara-full-resized/IMAG0009-kithara-full.jpg\")\n",
    "# read in a grayscale image\n",
    "gray = cv2.imread(\"../data/images-cropped/kithara-full-resized/IMAG0029-kithara-full.jpg\")\n",
    "# check if both have three channels or not\n",
    "print(color.shape)\n",
    "print(gray.shape)"
   ]
  },
  {
   "cell_type": "markdown",
   "metadata": {},
   "source": [
    "### Create train / test split of `kithara-full` and `no-kithara` images\n",
    "#### 1. Use the image list `csv` to create a sample of `no-kithara` images and train / test split it"
   ]
  },
  {
   "cell_type": "code",
   "execution_count": 3,
   "metadata": {},
   "outputs": [],
   "source": [
    "# read in the list of image IDs without a kithara\n",
    "no_kithara = pd.read_csv('../data/images-cropped/no-kithara-resized-filenames.csv')"
   ]
  },
  {
   "cell_type": "code",
   "execution_count": 4,
   "metadata": {},
   "outputs": [],
   "source": [
    "# # create a new column that labels the images without a kithara as such\n",
    "# no_kithara['kithara'] = 0"
   ]
  },
  {
   "cell_type": "code",
   "execution_count": 5,
   "metadata": {},
   "outputs": [
    {
     "data": {
      "text/html": [
       "<div>\n",
       "<style scoped>\n",
       "    .dataframe tbody tr th:only-of-type {\n",
       "        vertical-align: middle;\n",
       "    }\n",
       "\n",
       "    .dataframe tbody tr th {\n",
       "        vertical-align: top;\n",
       "    }\n",
       "\n",
       "    .dataframe thead th {\n",
       "        text-align: right;\n",
       "    }\n",
       "</style>\n",
       "<table border=\"1\" class=\"dataframe\">\n",
       "  <thead>\n",
       "    <tr style=\"text-align: right;\">\n",
       "      <th></th>\n",
       "      <th>filename</th>\n",
       "    </tr>\n",
       "  </thead>\n",
       "  <tbody>\n",
       "    <tr>\n",
       "      <th>0</th>\n",
       "      <td>IMAG0009-1248-1248.jpg</td>\n",
       "    </tr>\n",
       "    <tr>\n",
       "      <th>1</th>\n",
       "      <td>IMAG0009-1248-1664.jpg</td>\n",
       "    </tr>\n",
       "    <tr>\n",
       "      <th>2</th>\n",
       "      <td>IMAG0009-1248-2080.jpg</td>\n",
       "    </tr>\n",
       "    <tr>\n",
       "      <th>3</th>\n",
       "      <td>IMAG0009-1248-2496.jpg</td>\n",
       "    </tr>\n",
       "    <tr>\n",
       "      <th>4</th>\n",
       "      <td>IMAG0009-1248-2912.jpg</td>\n",
       "    </tr>\n",
       "  </tbody>\n",
       "</table>\n",
       "</div>"
      ],
      "text/plain": [
       "                 filename\n",
       "0  IMAG0009-1248-1248.jpg\n",
       "1  IMAG0009-1248-1664.jpg\n",
       "2  IMAG0009-1248-2080.jpg\n",
       "3  IMAG0009-1248-2496.jpg\n",
       "4  IMAG0009-1248-2912.jpg"
      ]
     },
     "execution_count": 5,
     "metadata": {},
     "output_type": "execute_result"
    }
   ],
   "source": [
    "# take a look at the first few rows\n",
    "no_kithara.head()"
   ]
  },
  {
   "cell_type": "code",
   "execution_count": 6,
   "metadata": {},
   "outputs": [],
   "source": [
    "# Randomly select X images and assign to a new df named 'nk'\n",
    "trash, nk = tts(no_kithara, test_size = 2000, random_state = 42)\n",
    "# train/test split the nk dataframe\n",
    "train_nk, test_nk = tts(nk, test_size = .25, random_state = 42)"
   ]
  },
  {
   "cell_type": "code",
   "execution_count": 7,
   "metadata": {},
   "outputs": [],
   "source": [
    "# write the train / test data to csv\n",
    "train_nk.to_csv('../data/images-cropped/no-kithara-train-filenames.csv', index = False)\n",
    "test_nk.to_csv('../data/images-cropped/no-kithara-test-filenames.csv', index = False)"
   ]
  },
  {
   "cell_type": "markdown",
   "metadata": {},
   "source": [
    "#### 2. Use the image list `csv`s to train / test split the `kithara-full` images"
   ]
  },
  {
   "cell_type": "code",
   "execution_count": 8,
   "metadata": {},
   "outputs": [],
   "source": [
    "# read in the list of image IDs with a kithara\n",
    "kithara = pd.read_csv('../data/images-cropped/kithara-full-resized-filenames.csv')"
   ]
  },
  {
   "cell_type": "code",
   "execution_count": 9,
   "metadata": {},
   "outputs": [],
   "source": [
    "# # create a new column that labels the images with a kithara as such\n",
    "# kithara['kithara'] = 1"
   ]
  },
  {
   "cell_type": "code",
   "execution_count": 10,
   "metadata": {},
   "outputs": [
    {
     "data": {
      "text/html": [
       "<div>\n",
       "<style scoped>\n",
       "    .dataframe tbody tr th:only-of-type {\n",
       "        vertical-align: middle;\n",
       "    }\n",
       "\n",
       "    .dataframe tbody tr th {\n",
       "        vertical-align: top;\n",
       "    }\n",
       "\n",
       "    .dataframe thead th {\n",
       "        text-align: right;\n",
       "    }\n",
       "</style>\n",
       "<table border=\"1\" class=\"dataframe\">\n",
       "  <thead>\n",
       "    <tr style=\"text-align: right;\">\n",
       "      <th></th>\n",
       "      <th>filename</th>\n",
       "    </tr>\n",
       "  </thead>\n",
       "  <tbody>\n",
       "    <tr>\n",
       "      <th>0</th>\n",
       "      <td>IMAG0009-kithara-full.jpg</td>\n",
       "    </tr>\n",
       "    <tr>\n",
       "      <th>1</th>\n",
       "      <td>IMAG0029-kithara-full.jpg</td>\n",
       "    </tr>\n",
       "    <tr>\n",
       "      <th>2</th>\n",
       "      <td>IMAG0030-kithara-full.jpg</td>\n",
       "    </tr>\n",
       "    <tr>\n",
       "      <th>3</th>\n",
       "      <td>IMAG0034-kithara-full.jpg</td>\n",
       "    </tr>\n",
       "    <tr>\n",
       "      <th>4</th>\n",
       "      <td>IMAG0043-kithara-full.jpg</td>\n",
       "    </tr>\n",
       "    <tr>\n",
       "      <th>...</th>\n",
       "      <td>...</td>\n",
       "    </tr>\n",
       "    <tr>\n",
       "      <th>405</th>\n",
       "      <td>IMAG9949-kithara-full.jpg</td>\n",
       "    </tr>\n",
       "    <tr>\n",
       "      <th>406</th>\n",
       "      <td>IMAG9950a-kithara-full.jpg</td>\n",
       "    </tr>\n",
       "    <tr>\n",
       "      <th>407</th>\n",
       "      <td>IMAG9950b-kithara-full.jpg</td>\n",
       "    </tr>\n",
       "    <tr>\n",
       "      <th>408</th>\n",
       "      <td>IMAG9970-kithara-full.jpg</td>\n",
       "    </tr>\n",
       "    <tr>\n",
       "      <th>409</th>\n",
       "      <td>IMAG9975-kithara-full.jpg</td>\n",
       "    </tr>\n",
       "  </tbody>\n",
       "</table>\n",
       "<p>410 rows × 1 columns</p>\n",
       "</div>"
      ],
      "text/plain": [
       "                       filename\n",
       "0     IMAG0009-kithara-full.jpg\n",
       "1     IMAG0029-kithara-full.jpg\n",
       "2     IMAG0030-kithara-full.jpg\n",
       "3     IMAG0034-kithara-full.jpg\n",
       "4     IMAG0043-kithara-full.jpg\n",
       "..                          ...\n",
       "405   IMAG9949-kithara-full.jpg\n",
       "406  IMAG9950a-kithara-full.jpg\n",
       "407  IMAG9950b-kithara-full.jpg\n",
       "408   IMAG9970-kithara-full.jpg\n",
       "409   IMAG9975-kithara-full.jpg\n",
       "\n",
       "[410 rows x 1 columns]"
      ]
     },
     "execution_count": 10,
     "metadata": {},
     "output_type": "execute_result"
    }
   ],
   "source": [
    "kithara"
   ]
  },
  {
   "cell_type": "code",
   "execution_count": 11,
   "metadata": {},
   "outputs": [],
   "source": [
    "# train/test split the kithara dataframe\n",
    "train_k, test_k = tts(kithara, test_size = .25, random_state = 42)"
   ]
  },
  {
   "cell_type": "code",
   "execution_count": 12,
   "metadata": {},
   "outputs": [],
   "source": [
    "# write the train / test data to csv\n",
    "train_k.to_csv('../data/images-cropped/kithara-full-train-filenames.csv', index = False)\n",
    "test_k.to_csv('../data/images-cropped/kithara-full-test-filenames.csv', index = False)"
   ]
  },
  {
   "cell_type": "markdown",
   "metadata": {},
   "source": [
    "#### Copy the selected, split, `resized` images to `kithara-train`, `kithara-test`, `no-kithara-train`, and `no-kithara-test` folders"
   ]
  },
  {
   "cell_type": "code",
   "execution_count": 13,
   "metadata": {},
   "outputs": [
    {
     "name": "stdout",
     "output_type": "stream",
     "text": [
      "end of kithara train file\n",
      "end of kithara test file\n",
      "end of no-kithara train file\n",
      "end of no-kithara test file\n"
     ]
    }
   ],
   "source": [
    "# copy the training kithara images to a new folder\n",
    "with open('../data/images-cropped/kithara-full-train-filenames.csv', 'r') as f:\n",
    "    for img in csv.reader(f, delimiter=','):\n",
    "        name = img[0]\n",
    "        dir_src = os.path.dirname(os.getcwd()) + '\\\\data\\\\images-cropped\\\\kithara-full-resized\\\\'\n",
    "        dir_dst = os.path.dirname(os.getcwd()) + '\\\\data\\\\images-cropped\\\\kithara-full-train\\\\'\n",
    "        try:\n",
    "            src_file = os.path.join(dir_src, name)\n",
    "            dst_file = os.path.join(dir_dst, name)\n",
    "            shutil.copy(src_file, dst_file)\n",
    "        except:\n",
    "            print('end of kithara train file')\n",
    "\n",
    "# copy the testing kithara images to a new folder\n",
    "with open('../data/images-cropped/kithara-full-test-filenames.csv', 'r') as f:\n",
    "    for img in csv.reader(f, delimiter=','):\n",
    "        name = img[0]\n",
    "        dir_src = os.path.dirname(os.getcwd()) + '\\\\data\\\\images-cropped\\\\kithara-full-resized\\\\'\n",
    "        dir_dst = os.path.dirname(os.getcwd()) + '\\\\data\\\\images-cropped\\\\kithara-full-test\\\\'\n",
    "        try:\n",
    "            src_file = os.path.join(dir_src, name)\n",
    "            dst_file = os.path.join(dir_dst, name)\n",
    "            shutil.copy(src_file, dst_file)\n",
    "        except:\n",
    "            print('end of kithara test file')\n",
    "            \n",
    "# copy the training no-kithara images to a new folder\n",
    "with open('../data/images-cropped/no-kithara-train-filenames.csv', 'r') as f:\n",
    "    for img in csv.reader(f, delimiter=','):\n",
    "        name = img[0]\n",
    "        dir_src = os.path.dirname(os.getcwd()) + '\\\\data\\\\images-cropped\\\\no-kithara-resized\\\\'\n",
    "        dir_dst = os.path.dirname(os.getcwd()) + '\\\\data\\\\images-cropped\\\\no-kithara-train\\\\'\n",
    "        try:\n",
    "            src_file = os.path.join(dir_src, name)\n",
    "            dst_file = os.path.join(dir_dst, name)\n",
    "            shutil.copy(src_file, dst_file)\n",
    "        except:\n",
    "            print('end of no-kithara train file')\n",
    "\n",
    "# copy the testing no-kithara images to a new folder\n",
    "with open('../data/images-cropped/no-kithara-test-filenames.csv', 'r') as f:\n",
    "    for img in csv.reader(f, delimiter=','):\n",
    "        name = img[0]\n",
    "        dir_src = os.path.dirname(os.getcwd()) + '\\\\data\\\\images-cropped\\\\no-kithara-resized\\\\'\n",
    "        dir_dst = os.path.dirname(os.getcwd()) + '\\\\data\\\\images-cropped\\\\no-kithara-test\\\\'\n",
    "        try:\n",
    "            src_file = os.path.join(dir_src, name)\n",
    "            dst_file = os.path.join(dir_dst, name)\n",
    "            shutil.copy(src_file, dst_file)\n",
    "        except:\n",
    "            print('end of no-kithara test file')"
   ]
  },
  {
   "cell_type": "markdown",
   "metadata": {},
   "source": [
    "#### Images are now standardized and structured for `keras` CNN modeling."
   ]
  }
 ],
 "metadata": {
  "kernelspec": {
   "display_name": "Python 3",
   "language": "python",
   "name": "python3"
  },
  "language_info": {
   "codemirror_mode": {
    "name": "ipython",
    "version": 3
   },
   "file_extension": ".py",
   "mimetype": "text/x-python",
   "name": "python",
   "nbconvert_exporter": "python",
   "pygments_lexer": "ipython3",
   "version": "3.8.3"
  }
 },
 "nbformat": 4,
 "nbformat_minor": 4
}
