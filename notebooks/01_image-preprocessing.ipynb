{
 "cells": [
  {
   "cell_type": "markdown",
   "metadata": {},
   "source": [
    "# Generate Consistent Images for the CNN\n",
    "\n",
    "*This notebook prepares images of vases with one kithara represented for a CNN.*  \n",
    "\n",
    "*The functions `multiply_image` and `multiply_image_backward` are based on the code Chris Birchall used to [find Wally](https://tech.ovoenergy.com/cheating-at-wheres-wally/).*  \n",
    "\n",
    "*The functions leverage `opencv` functionality to automatically detect image size (per [this resource](https://note.nkmk.me/en/python-opencv-pillow-image-size/)).*\n",
    "\n",
    "*[imagej](https://imagej.nih.gov/ij/) was used to identify the location of each kithara and write out x-y bounding box coordinates for each.*"
   ]
  },
  {
   "cell_type": "code",
   "execution_count": 1,
   "metadata": {},
   "outputs": [],
   "source": [
    "# import necessary libraries\n",
    "import cv2\n",
    "import glob\n",
    "import os.path\n",
    "import pandas as pd\n",
    "import numpy as np"
   ]
  },
  {
   "cell_type": "markdown",
   "metadata": {},
   "source": [
    "### Test out extracting the image size"
   ]
  },
  {
   "cell_type": "code",
   "execution_count": 2,
   "metadata": {},
   "outputs": [],
   "source": [
    "# # get the height, width, and color of an image\n",
    "# # read in the image\n",
    "# test_img = cv2.imread(\"../data/test/IMAG0009.jpg\")\n",
    "# # assign the results to variables y (height), x (width), and c (color)\n",
    "# y, x, c = test_img.shape\n",
    "\n",
    "# # # alternatively, select specific values in the array\n",
    "# # x_max = test_img.shape[1]\n",
    "# # y_max = test_img.shape[0]\n",
    "\n",
    "# # show the type of the variable created and return some stats\n",
    "# print(type(test_img))\n",
    "# print(test_img.shape)\n",
    "# print(type(test_img.shape))\n",
    "# print(y)\n",
    "# print(x)\n",
    "# print(c)"
   ]
  },
  {
   "cell_type": "markdown",
   "metadata": {},
   "source": [
    "### Test out extracting the kithara size and location "
   ]
  },
  {
   "cell_type": "code",
   "execution_count": 3,
   "metadata": {},
   "outputs": [],
   "source": [
    "# # read in the csv with the kithara location data\n",
    "# test_kithara = pd.read_csv('../data/coordinates/IMAG0009.csv').iloc[:, 1:]\n",
    "# test_kithara"
   ]
  },
  {
   "cell_type": "code",
   "execution_count": 4,
   "metadata": {},
   "outputs": [],
   "source": [
    "# # get the min and max x and y coordinates, plus the x distance and y distance\n",
    "# kx_min = test_kithara.x_top_left.values[0]\n",
    "# kx_max = test_kithara.x_bottom_right.values[0]\n",
    "# ky_min = test_kithara.y_top_left.values[0]\n",
    "# ky_max = test_kithara.y_bottom_right.values[0]\n",
    "# kx_size = kx_max - kx_min\n",
    "# ky_size = ky_max - ky_min\n",
    "# k_max = np.where(kx_size > ky_size, kx_size, ky_size)\n",
    "# print('width (x): ' + kx_size.astype(str))\n",
    "# print('height (y): ' + ky_size.astype(str))\n",
    "# print('max size: ' + k_max.astype(str))"
   ]
  },
  {
   "cell_type": "code",
   "execution_count": 5,
   "metadata": {},
   "outputs": [],
   "source": [
    "# k_max = np.where(kx_size > ky_size, kx_size, ky_size).item(0)\n",
    "# k_max"
   ]
  },
  {
   "cell_type": "code",
   "execution_count": 6,
   "metadata": {},
   "outputs": [],
   "source": [
    "# k_inc = int(k_max/2)\n",
    "# print(type(k_inc))"
   ]
  },
  {
   "cell_type": "markdown",
   "metadata": {},
   "source": [
    "### Write functions to cut up each image into multiple equally-sized, square chunks\n",
    "\n",
    "*Since images are not necessarily going to be evenly-dissectable based on the size of the kithara for each, I'm taking two tactics to ensure full-coverage:*\n",
    "* Based on a square box sized to the greater of the x or y extent of the kithara in the image, chopping each image up starting from the top left (`multiply_image`) and bottom right (`multiply_image_backward`) corners\n",
    "* Shifting the x and y start coordinates by 1/2 of the kithara image size at a time\n",
    "\n",
    "*To tag whether or not an image includes a full or partial kithara, I'm doing the following:*\n",
    "* Taking the x-y coordinates of the kithara image location (generated using `imagej` and squared-off in the functions below) and, if the image falls within those coordinates, tagging it as a kithara\n",
    "* Writing the kithara images to a different folder with different file-naming conventions to make them easy to identify\n",
    "\n",
    "*To clean up the data generated, I'm doing the following:*\n",
    "* Only saving cropped images where the x and y axis are the same length (i.e. removing 'remainder' images)\n",
    "* Resizing all of the square images to the same dimensions (specifically, upscaling and downscaling images to the median height of a kithara, 558 pixels - note that I'm using the median height of a kithara since it is slightly larger than the median kithara width of 426 pixels)"
   ]
  },
  {
   "cell_type": "markdown",
   "metadata": {},
   "source": [
    "#### Define `multiply_image` function\n",
    "\n",
    "*Calculate the kithara box size then scan over the image, from top left, and chop it into multiple equal-sized squares. Save only square boxes (i.e. remove remainders) and label any that intersect with the kithara area as 'kithara'.*"
   ]
  },
  {
   "cell_type": "code",
   "execution_count": 7,
   "metadata": {},
   "outputs": [],
   "source": [
    "# for each image in the folder\n",
    "# get the height and width of each image\n",
    "# get the height and width of the kithara\n",
    "# iterate over the image and create pixel squares the same size as the longer of the x or y length of the kithara\n",
    "# tag all images that overlap with the kithara box as a kithara\n",
    "# write cropped images out to separate folders\n",
    "\n",
    "def multiply_image(name):\n",
    "    # read in the image\n",
    "    img = cv2.imread(\"../data/test/{}.jpg\".format(name))\n",
    "    # get the size of the image\n",
    "    y_max, x_max, _ = img.shape  \n",
    "    # get the coordinates of the kithara\n",
    "    kithara = pd.read_csv('../data/coordinates/{}.csv'.format(name)).iloc[:, 1:]\n",
    "    kx_min = kithara.x_top_left.values[0]\n",
    "    kx_max = kithara.x_bottom_right.values[0]\n",
    "    ky_min = kithara.y_top_left.values[0]\n",
    "    ky_max = kithara.y_bottom_right.values[0]\n",
    "    kx_size = kx_max - kx_min\n",
    "    ky_size = ky_max - ky_min\n",
    "    # set the image size based on the larger of x or y length for the kithara\n",
    "    k_max = np.where(kx_size > ky_size, kx_size, ky_size).item(0)\n",
    "    # set the increment to 1/2 the size of the larger of x or y length for the kithara\n",
    "    k_inc = int(k_max/2)\n",
    "    # incrementally move forward, starting at the top L corner, by 1/2 the largest dimension of the kithara size\n",
    "    # get a bunch of square images that are the size of the kithara (or smaller, if running into an edge)\n",
    "    for y in range(0, y_max, k_inc):\n",
    "        if y + k_max <= y_max:\n",
    "            start_y = y\n",
    "            end_y = y + k_max\n",
    "        else:\n",
    "            start_y = y\n",
    "            end_y = y_max            \n",
    "        for x in range(0, x_max, k_inc):\n",
    "            if x + k_max <= x_max:\n",
    "                start_x = x\n",
    "                end_x = x + k_max\n",
    "            else:\n",
    "                start_x = x\n",
    "                end_x = x_max\n",
    "            # create the cropped image based on the coordinates set above\n",
    "            cropped_img = img[start_y:end_y, start_x:end_x]\n",
    "            if (end_y - start_y) == (end_x - start_x):\n",
    "                if start_y >= ky_min and start_y <= ky_min + k_max and start_x >= kx_min and start_x <= kx_min + k_max:\n",
    "                # crop the image\n",
    "                    cv2.imwrite(\"../data/images-cropped/kithara-partial/{}-kithara-{}-{}.jpg\".format(name, end_y, end_x), cropped_img)\n",
    "                elif start_y >= ky_min and start_y <= ky_min + k_max and end_x >= kx_min and end_x <= kx_min + k_max:\n",
    "                                # crop the image\n",
    "                    cv2.imwrite(\"../data/images-cropped/kithara-partial/{}-kithara-{}-{}.jpg\".format(name, end_y, end_x), cropped_img)\n",
    "                elif end_y >= ky_min and end_y <= ky_min + k_max and start_x >= kx_min and start_x <= kx_min + k_max:\n",
    "                                # crop the image\n",
    "                    cv2.imwrite(\"../data/images-cropped/kithara-partial/{}-kithara-{}-{}.jpg\".format(name, end_y, end_x), cropped_img)\n",
    "                elif end_y >= ky_min and end_y <= ky_min + k_max and end_x >= kx_min and end_x <= kx_min + k_max:\n",
    "                                # crop the image\n",
    "                    cv2.imwrite(\"../data/images-cropped/kithara-partial/{}-kithara-{}-{}.jpg\".format(name, end_y, end_x), cropped_img)\n",
    "                else:\n",
    "                    cv2.imwrite(\"../data/images-cropped/no-kithara/{}-{}-{}.jpg\".format(name, end_y, end_x), cropped_img)\n",
    "            else:\n",
    "                pass"
   ]
  },
  {
   "cell_type": "markdown",
   "metadata": {},
   "source": [
    "#### Define `multiply_image_backward` function\n",
    "\n",
    "*Calculate the kithara box size then scan over the image, from bottom right, and chop it into multiple equal-sized squares. Save only square boxes (i.e. remove remainders) and label any that intersect with the kithara area as 'kithara'.*"
   ]
  },
  {
   "cell_type": "code",
   "execution_count": 8,
   "metadata": {},
   "outputs": [],
   "source": [
    "# go over the image but in reverse and create pixel squares that are the size of the longest of the kithara dimensions\n",
    "def multiply_image_backward(name):\n",
    "    # read in the image\n",
    "    img = cv2.imread(\"../data/test/{}.jpg\".format(name))\n",
    "    # get the size of the image\n",
    "    y_max, x_max, _ = img.shape\n",
    "    # get the coordinates of the kithara\n",
    "    kithara = pd.read_csv('../data/coordinates/{}.csv'.format(name)).iloc[:, 1:]\n",
    "    kx_min = kithara.x_top_left.values[0]\n",
    "    kx_max = kithara.x_bottom_right.values[0]\n",
    "    ky_min = kithara.y_top_left.values[0]\n",
    "    ky_max = kithara.y_bottom_right.values[0]\n",
    "    kx_size = kx_max - kx_min\n",
    "    ky_size = ky_max - ky_min\n",
    "    # set the image size based on the larger of x or y for the kithara\n",
    "    k_max = np.where(kx_size > ky_size, kx_size, ky_size).item(0)\n",
    "    # set the increment to 1/2 the size of the larger of x or y for the kithara\n",
    "    k_inc = int(k_max/2)\n",
    "    # incrementally move backward, starting at the bottom R corner, by 1/2 the largest dimension of the kithara size\n",
    "    # get a bunch of square images that are the size of the kithara\n",
    "    for y in range(y_max, 0, -k_inc):\n",
    "        if y >= k_max:\n",
    "            start_y = y - k_max\n",
    "            end_y = y\n",
    "        else:\n",
    "            start_y = 0\n",
    "            end_y = y\n",
    "        for x in range(x_max, 0, -k_inc):\n",
    "            if x >= k_max:\n",
    "                start_x = x - k_max\n",
    "                end_x = x\n",
    "            else:\n",
    "                start_x = 0\n",
    "                end_x = x\n",
    "        # set the image coordinates\n",
    "        cropped_img = img[start_y:end_y, start_x:end_x]\n",
    "        if (end_y - start_y) == (end_x - start_x):\n",
    "            if start_y >= ky_min and start_y <= ky_min + k_max and start_x >= kx_min and start_x <= kx_min + k_max:\n",
    "            # crop the image\n",
    "                cv2.imwrite(\"../data/images-cropped/kithara-partial/{}-kithara-{}-{}.jpg\".format(name, end_y, end_x), cropped_img)\n",
    "            elif start_y >= ky_min and start_y <= ky_min + k_max and end_x >= kx_min and end_x <= kx_min + k_max:\n",
    "                            # crop the image\n",
    "                cv2.imwrite(\"../data/images-cropped/kithara-partial/{}-kithara-{}-{}.jpg\".format(name, end_y, end_x), cropped_img)\n",
    "            elif end_y >= ky_min and end_y <= ky_min + k_max and start_x >= kx_min and start_x <= kx_min + k_max:\n",
    "                            # crop the image\n",
    "                cv2.imwrite(\"../data/images-cropped/kithara-partial/{}-kithara-{}-{}.jpg\".format(name, end_y, end_x), cropped_img)\n",
    "            elif end_y >= ky_min and end_y <= ky_min + k_max and end_x >= kx_min and end_x <= kx_min + k_max:\n",
    "                            # crop the image\n",
    "                cv2.imwrite(\"../data/images-cropped/kithara-partial/{}-kithara-{}-{}.jpg\".format(name, end_y, end_x), cropped_img)\n",
    "            else:\n",
    "                cv2.imwrite(\"../data/images-cropped/no-kithara/{}-{}-{}.jpg\".format(name, end_y, end_x), cropped_img)\n",
    "        else:\n",
    "            pass"
   ]
  },
  {
   "cell_type": "markdown",
   "metadata": {},
   "source": [
    "#### Define `get_kithara` function\n",
    "\n",
    "*Calculate the kithara box size based on the longer of the x or y axis, then excise and save a square cropped image with the kithara at the center.*"
   ]
  },
  {
   "cell_type": "code",
   "execution_count": 9,
   "metadata": {},
   "outputs": [],
   "source": [
    "def get_kithara(name):\n",
    "    img = cv2.imread(\"../data/test/{}.jpg\".format(name))\n",
    "    kithara = pd.read_csv('../data/coordinates/{}.csv'.format(name)).iloc[:, 1:]\n",
    "    kx_min = kithara.x_top_left.values[0]\n",
    "    kx_max = kithara.x_bottom_right.values[0]\n",
    "    ky_min = kithara.y_top_left.values[0]\n",
    "    ky_max = kithara.y_bottom_right.values[0]\n",
    "    kx_size = kx_max - kx_min\n",
    "    ky_size = ky_max - ky_min\n",
    "    k_max = np.where(kx_size > ky_size, kx_size, ky_size).item(0)\n",
    "    if kx_size < ky_size:\n",
    "        x_start = int(kx_min - ((ky_size - kx_size)/2))\n",
    "        x_end = int(kx_max + ((ky_size - kx_size)/2))\n",
    "        y_start = ky_min\n",
    "        y_end = ky_max\n",
    "    elif ky_size < kx_size:\n",
    "        y_start = int(ky_min - ((kx_size - ky_size)/2))\n",
    "        y_end = int(ky_max + ((kx_size - ky_size)/2))\n",
    "        x_start = kx_min\n",
    "        x_end = kx_max\n",
    "    else:\n",
    "        x_start = kx_min\n",
    "        x_end = kx_max\n",
    "        y_start = ky_min\n",
    "        y_end = ky_max\n",
    "    kithara_img = img[y_start:y_end, x_start:x_end]\n",
    "    if (y_end - y_start) == (x_end - x_start):\n",
    "        cv2.imwrite(\"../data/images-cropped/kithara-full/{}-kithara-full.jpg\".format(name), kithara_img)\n",
    "    else:\n",
    "        pass"
   ]
  },
  {
   "cell_type": "markdown",
   "metadata": {},
   "source": [
    "#### Run the three functions over the original image data"
   ]
  },
  {
   "cell_type": "code",
   "execution_count": 10,
   "metadata": {},
   "outputs": [],
   "source": [
    "# run the functions over the image folder    \n",
    "for path in glob.glob(\"../data/test/*.jpg\"):\n",
    "    name = os.path.splitext(os.path.basename(path))[0]\n",
    "    multiply_image(name)\n",
    "    multiply_image_backward(name)\n",
    "    get_kithara(name)"
   ]
  },
  {
   "cell_type": "markdown",
   "metadata": {},
   "source": [
    "#### Define `image_scaler` function\n",
    "\n",
    "*Rescale the images to the median size of a kithara (558 x 558 pixels).*"
   ]
  },
  {
   "cell_type": "code",
   "execution_count": 11,
   "metadata": {},
   "outputs": [],
   "source": [
    "def image_scaler(folder, name):\n",
    "    img = cv2.imread(\"../data/images-cropped/{}/{}.jpg\".format(folder, name))\n",
    "    # create a variable to tell the function how much to scale the original up/down to 558x558 pixesl\n",
    "    scale_percent = 558 / (img.shape[0])\n",
    "    # create new dimensions tuple\n",
    "    width = int(img.shape[1] * scale_percent)\n",
    "    height = int(img.shape[0] * scale_percent)\n",
    "    dim = (width, height)\n",
    "    img = cv2.resize(img, dim, interpolation = cv2.INTER_AREA)\n",
    "    cv2.imwrite(\"../data/images-cropped/{}-resized/{}.jpg\".format(folder, name), img)"
   ]
  },
  {
   "cell_type": "code",
   "execution_count": 12,
   "metadata": {},
   "outputs": [],
   "source": [
    "# run the functions over the three subfolders in the cropped images folder\n",
    "for folder in ['kithara-full', 'kithara-partial', 'no-kithara']:\n",
    "    for path in glob.glob(\"../data/images-cropped/\"+folder+\"/*.jpg\"):\n",
    "        name = os.path.splitext(os.path.basename(path))[0]\n",
    "        image_scaler(folder, name)"
   ]
  },
  {
   "cell_type": "markdown",
   "metadata": {},
   "source": [
    "### Next Steps\n",
    "* ~~Tag images that intersect the boxes with the kithara in it~~\n",
    "* ~~Get rid of incorrectly-sized images~~\n",
    "* ~~Resize all images~~\n",
    "* ~~Test on a larger dataset~~\n",
    "* Refactor the functions above to prevent unnecessary duplication of work\n",
    "\n",
    "### Use AWS to process images\n",
    "* ~~Put images in an S3 bucket~~\n",
    "* ~~Use lambda to process~~ <-- ended up using another computer to process the images\n",
    "* ~~Put the standardized and resized images into another S3 bucket~~\n",
    "\n",
    "### Split the images into train / test groups\n",
    "* ~~Generate list of the image names in each folder~~\n",
    "* ~~Split the lists into train / test groups~~\n",
    "* Organize the images into folders based on train / test split to set up for keras CNN\n",
    "\n",
    "### Train a model\n",
    "* Using the keras `Inceptionv3` base, train a model to identify kitharai"
   ]
  },
  {
   "cell_type": "markdown",
   "metadata": {},
   "source": [
    "### Refactoring WIP\n",
    "\n",
    "*The following lines are a WIP to refactor the functions to run one to get the kithara metadata separately, as well as to optimize the image resizing function. Commented out for now while working on the rest of the project.*"
   ]
  },
  {
   "cell_type": "code",
   "execution_count": 13,
   "metadata": {},
   "outputs": [],
   "source": [
    "# This is the kithara metadata function\n",
    "# # create a function to get the coordinates of the kithara\n",
    "# def kithara_metadata(name):\n",
    "#     kithara = pd.read_csv('../data/coordinates/{}.csv'.format(name)).iloc[:, 1:]\n",
    "#     kx_min = kithara.x_top_left.values[0]\n",
    "#     kx_max = kithara.x_bottom_right.values[0]\n",
    "#     ky_min = kithara.y_top_left.values[0]\n",
    "#     ky_max = kithara.y_bottom_right.values[0]\n",
    "#     kx_size = kx_max - kx_min\n",
    "#     ky_size = ky_max - ky_min\n",
    "#     # set the image size based on the larger of x or y for the kithara\n",
    "#     k_max = np.where(kx_size > ky_size, kx_size, ky_size).item(0)\n",
    "#     # set the increment to 1/2 the size of the larger of x or y for the kithara\n",
    "#     k_inc = int(k_max/2)\n",
    "#     return {'kx_min': int(kx_min),\n",
    "#             'kx_max': int(kx_max),\n",
    "#             'ky_min': int(ky_min),\n",
    "#             'ky_max': int(ky_max),\n",
    "#             'kx_size': int(kx_size),\n",
    "#             'ky_size': int(ky_size),\n",
    "#             'k_max': int(k_max),\n",
    "#             'k_inc': int(k_inc)}"
   ]
  },
  {
   "cell_type": "code",
   "execution_count": 14,
   "metadata": {},
   "outputs": [],
   "source": [
    "# print(type(kithara_metadata('IMAG0009').get('kx_min')))"
   ]
  },
  {
   "cell_type": "code",
   "execution_count": 15,
   "metadata": {},
   "outputs": [],
   "source": [
    "# kithara_metadata('IMAG0009')"
   ]
  },
  {
   "cell_type": "code",
   "execution_count": 16,
   "metadata": {},
   "outputs": [],
   "source": [
    "# # for each image in the folder\n",
    "# # get the height and width of each image\n",
    "# # then iterate over the image and create 1000 x 1000 pixel squares\n",
    "# def multiply_image(name):\n",
    "#     # read in the image\n",
    "#     img = cv2.imread(\"../data/test/{}.jpg\".format(name))\n",
    "#     # get the size of the image\n",
    "#     y_max, x_max, _ = img.shape  \n",
    "#     # get the coordinates of the kithara\n",
    "#     k = kithara_metadata(name)\n",
    "#     # incrementally move forward, starting at the top L corner, by 1/2 the largest dimension of the kithara size\n",
    "#     # get a bunch of square images that are the size of the kithara\n",
    "#     for y in range(0, int(k.get('y_max')), int(k.get('k_inc'))):\n",
    "#         start_y = y\n",
    "#         end_y = y + int(k.get('k_max'))\n",
    "#         for x in range(0, int(k.get('x_max')), int(k.get('k_inc'))):\n",
    "#             start_x = x\n",
    "#             end_x = x + int(k.get('k_max'))\n",
    "#             # set the image coordinates\n",
    "#             cropped_img = img[start_y:end_y, start_x:end_x]\n",
    "#             # crop the image\n",
    "#             cv2.imwrite(\"../data/cropped_images/{}-{}-{}.png\".format(name, y, x), cropped_img)"
   ]
  },
  {
   "cell_type": "code",
   "execution_count": 17,
   "metadata": {},
   "outputs": [],
   "source": [
    "# # run the functions over the cropped images folder    \n",
    "# for path in glob.glob(\"../data/images-cropped/*/\"):\n",
    "#     folder = os.path.splitext(os.path.dirname(path))[0].split(\"/images-cropped/\")[1]\n",
    "#     for path in glob.glob(\"../data/images-cropped/\"+folder+\"/*.jpg\"):\n",
    "#         name = os.path.splitext(os.path.basename(path))[0]\n",
    "#         image_scaler(name)"
   ]
  }
 ],
 "metadata": {
  "kernelspec": {
   "display_name": "Python 3",
   "language": "python",
   "name": "python3"
  },
  "language_info": {
   "codemirror_mode": {
    "name": "ipython",
    "version": 3
   },
   "file_extension": ".py",
   "mimetype": "text/x-python",
   "name": "python",
   "nbconvert_exporter": "python",
   "pygments_lexer": "ipython3",
   "version": "3.8.3"
  }
 },
 "nbformat": 4,
 "nbformat_minor": 5
}
