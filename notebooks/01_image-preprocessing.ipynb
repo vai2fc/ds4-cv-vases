{
 "cells": [
  {
   "cell_type": "markdown",
   "id": "constant-dayton",
   "metadata": {},
   "source": [
    "# Generate Consistent Images for the CNN\n",
    "\n",
    "*The functions `multiply_image` and `multiply_image_backward` are based on the code Chris Birchall used to [find Wally](https://tech.ovoenergy.com/cheating-at-wheres-wally/).*\n",
    "\n",
    "*Using [this resource](https://note.nkmk.me/en/python-opencv-pillow-image-size/) to leverage `opencv` functionality to automatically-detect image size.*\n",
    "\n",
    "*Using [imagej](https://imagej.nih.gov/ij/) to identify the location of each kithara and write out x-y bounding box coordinates for each.*"
   ]
  },
  {
   "cell_type": "code",
   "execution_count": 1,
   "id": "modular-speech",
   "metadata": {},
   "outputs": [],
   "source": [
    "import cv2\n",
    "import glob\n",
    "import os.path"
   ]
  },
  {
   "cell_type": "code",
   "execution_count": 25,
   "id": "crucial-commitment",
   "metadata": {},
   "outputs": [
    {
     "name": "stdout",
     "output_type": "stream",
     "text": [
      "<class 'numpy.ndarray'>\n",
      "(7680, 10032, 3)\n",
      "<class 'tuple'>\n",
      "7680\n",
      "10032\n",
      "3\n"
     ]
    }
   ],
   "source": [
    "# get the height, width, and color of an image\n",
    "# read in the image\n",
    "test_img = cv2.imread(\"../data/test/IMAG0009.jpg\")\n",
    "# assign the results to variables y (height), x (width), and c (color)\n",
    "y, x, c = test_img.shape\n",
    "\n",
    "# # alternatively, select specific values in the array\n",
    "# x_max = test_img.shape[1]\n",
    "# y_max = test_img.shape[0]\n",
    "\n",
    "# show the type of the variable created and return some stats\n",
    "print(type(test_img))\n",
    "print(test_img.shape)\n",
    "print(type(test_img.shape))\n",
    "print(y)\n",
    "print(x)\n",
    "print(c)"
   ]
  },
  {
   "cell_type": "code",
   "execution_count": 24,
   "id": "trying-living",
   "metadata": {},
   "outputs": [],
   "source": [
    "# for each image in the folder\n",
    "# get the height and width of each image\n",
    "# then iterate over the image and create 1000 x 1000 pixel squares\n",
    "def multiply_image(name):\n",
    "    img = cv2.imread(\"../data/test/{}.jpg\".format(name))\n",
    "    y_max, x_max, _ = img.shape\n",
    "    for y in range(0, y_max, 500):\n",
    "        start_y = y\n",
    "        end_y = y + 1000 \n",
    "        for x in range(0, x_max, 500):\n",
    "            start_x = x\n",
    "            end_x = x + 1000\n",
    "            cropped_img = img[start_y:end_y, start_x:end_x]\n",
    "            cv2.imwrite(\"../data/cropped_images/{}-{}-{}.png\".format(name, y, x), cropped_img)\n",
    "    \n",
    "for path in glob.glob(\"../data/test/*.jpg\"):\n",
    "    name = os.path.splitext(os.path.basename(path))[0]\n",
    "    multiply_image(name)"
   ]
  },
  {
   "cell_type": "code",
   "execution_count": 26,
   "id": "cathedral-finish",
   "metadata": {},
   "outputs": [],
   "source": [
    "# go over the image but in reverse and create 1000 x 1000 pixel squares\n",
    "def multiply_image_backward(name):\n",
    "    img = cv2.imread(\"../data/test/{}.jpg\".format(name))\n",
    "    y_max, x_max, _ = img.shape\n",
    "    for y in range(y_max, 0, -500):\n",
    "        if y >= 1000:\n",
    "            start_y = y - 1000\n",
    "            end_y = y\n",
    "        else:\n",
    "            start_y = 0\n",
    "            end_y = y\n",
    "        for x in range(x_max, 0, -500):\n",
    "            if x >= 1000:\n",
    "                start_x = x - 1000\n",
    "                end_x = x\n",
    "            else:\n",
    "                start_x = 0\n",
    "                end_x = x\n",
    "            cropped_img = img[start_y:end_y, start_x:end_x]\n",
    "            cv2.imwrite(\"../data/cropped_images/back-{}-{}-{}.png\".format(name, end_y, end_x), cropped_img)\n",
    "    \n",
    "for path in glob.glob(\"../data/test/*.jpg\"):\n",
    "    name = os.path.splitext(os.path.basename(path))[0]\n",
    "    multiply_image_backward(name)"
   ]
  },
  {
   "cell_type": "code",
   "execution_count": null,
   "id": "nasty-maintenance",
   "metadata": {},
   "outputs": [],
   "source": [
    "# Need to also:\n",
    "# get rid of incorrectly-sized images\n",
    "# create a variable to store the kithara size\n",
    "# create a variable to store the kithara location and name the file differently if it falls within the kithara range"
   ]
  }
 ],
 "metadata": {
  "kernelspec": {
   "display_name": "Python 3",
   "language": "python",
   "name": "python3"
  },
  "language_info": {
   "codemirror_mode": {
    "name": "ipython",
    "version": 3
   },
   "file_extension": ".py",
   "mimetype": "text/x-python",
   "name": "python",
   "nbconvert_exporter": "python",
   "pygments_lexer": "ipython3",
   "version": "3.7.10"
  }
 },
 "nbformat": 4,
 "nbformat_minor": 5
}
