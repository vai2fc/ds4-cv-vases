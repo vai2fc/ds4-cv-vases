{
 "cells": [
  {
   "cell_type": "markdown",
   "id": "eastern-jaguar",
   "metadata": {},
   "source": [
    "# Generate Consistent Images for the CNN\n",
    "\n",
    "*The functions `multiply_image` and `multiply_image_backward` are based on the code Chris Birchall used to [find Wally](https://tech.ovoenergy.com/cheating-at-wheres-wally/).*\n",
    "\n",
    "*Using [this resource](https://note.nkmk.me/en/python-opencv-pillow-image-size/) to leverage `opencv` functionality to automatically-detect image size.*\n",
    "\n",
    "*Using [imagej](https://imagej.nih.gov/ij/) to identify the location of each kithara and write out x-y bounding box coordinates for each.*"
   ]
  },
  {
   "cell_type": "code",
   "execution_count": 27,
   "id": "incoming-montgomery",
   "metadata": {},
   "outputs": [],
   "source": [
    "import cv2\n",
    "import glob\n",
    "import os.path\n",
    "import pandas as pd"
   ]
  },
  {
   "cell_type": "markdown",
   "id": "opponent-intellectual",
   "metadata": {},
   "source": [
    "### Test out extracting the image size"
   ]
  },
  {
   "cell_type": "code",
   "execution_count": 25,
   "id": "prerequisite-remark",
   "metadata": {},
   "outputs": [
    {
     "name": "stdout",
     "output_type": "stream",
     "text": [
      "<class 'numpy.ndarray'>\n",
      "(7680, 10032, 3)\n",
      "<class 'tuple'>\n",
      "7680\n",
      "10032\n",
      "3\n"
     ]
    }
   ],
   "source": [
    "# get the height, width, and color of an image\n",
    "# read in the image\n",
    "test_img = cv2.imread(\"../data/test/IMAG0009.jpg\")\n",
    "# assign the results to variables y (height), x (width), and c (color)\n",
    "y, x, c = test_img.shape\n",
    "\n",
    "# # alternatively, select specific values in the array\n",
    "# x_max = test_img.shape[1]\n",
    "# y_max = test_img.shape[0]\n",
    "\n",
    "# show the type of the variable created and return some stats\n",
    "print(type(test_img))\n",
    "print(test_img.shape)\n",
    "print(type(test_img.shape))\n",
    "print(y)\n",
    "print(x)\n",
    "print(c)"
   ]
  },
  {
   "cell_type": "markdown",
   "id": "instant-collapse",
   "metadata": {},
   "source": [
    "### Test out extracting the kithara size and location "
   ]
  },
  {
   "cell_type": "code",
   "execution_count": 46,
   "id": "lesbian-window",
   "metadata": {},
   "outputs": [
    {
     "data": {
      "text/html": [
       "<div>\n",
       "<style scoped>\n",
       "    .dataframe tbody tr th:only-of-type {\n",
       "        vertical-align: middle;\n",
       "    }\n",
       "\n",
       "    .dataframe tbody tr th {\n",
       "        vertical-align: top;\n",
       "    }\n",
       "\n",
       "    .dataframe thead th {\n",
       "        text-align: right;\n",
       "    }\n",
       "</style>\n",
       "<table border=\"1\" class=\"dataframe\">\n",
       "  <thead>\n",
       "    <tr style=\"text-align: right;\">\n",
       "      <th></th>\n",
       "      <th>x_top_left</th>\n",
       "      <th>y_top_left</th>\n",
       "      <th>x_top_right</th>\n",
       "      <th>y_top_right</th>\n",
       "      <th>x_bottom_left</th>\n",
       "      <th>y_bottom_left</th>\n",
       "      <th>x_bottom_right</th>\n",
       "      <th>y_bottom_right</th>\n",
       "    </tr>\n",
       "  </thead>\n",
       "  <tbody>\n",
       "    <tr>\n",
       "      <th>0</th>\n",
       "      <td>7616</td>\n",
       "      <td>3704</td>\n",
       "      <td>8128</td>\n",
       "      <td>3704</td>\n",
       "      <td>7616</td>\n",
       "      <td>4536</td>\n",
       "      <td>8128</td>\n",
       "      <td>4536</td>\n",
       "    </tr>\n",
       "  </tbody>\n",
       "</table>\n",
       "</div>"
      ],
      "text/plain": [
       "   x_top_left  y_top_left  x_top_right  y_top_right  x_bottom_left  \\\n",
       "0        7616        3704         8128         3704           7616   \n",
       "\n",
       "   y_bottom_left  x_bottom_right  y_bottom_right  \n",
       "0           4536            8128            4536  "
      ]
     },
     "execution_count": 46,
     "metadata": {},
     "output_type": "execute_result"
    }
   ],
   "source": [
    "# read in the csv with the kithara location data\n",
    "test_kithara = pd.read_csv('../data/coordinates/IMAG0009.csv').iloc[:, 1:]\n",
    "test_kithara"
   ]
  },
  {
   "cell_type": "code",
   "execution_count": 54,
   "id": "approximate-punishment",
   "metadata": {},
   "outputs": [
    {
     "name": "stdout",
     "output_type": "stream",
     "text": [
      "width (x): 512\n",
      "height (y): 832\n"
     ]
    }
   ],
   "source": [
    "# get the min and max x and y coordinates, plus the x distance and y distance\n",
    "kx_min = test_kithara.x_top_left.values[0]\n",
    "kx_max = test_kithara.x_bottom_right.values[0]\n",
    "ky_min = test_kithara.y_top_left.values[0]\n",
    "ky_max = test_kithara.y_bottom_right.values[0]\n",
    "kx_size = kx_max - kx_min\n",
    "ky_size = ky_max - ky_min\n",
    "print('width (x): ' + kx_size.astype(str))\n",
    "print('height (y): ' + ky_size.astype(str))"
   ]
  },
  {
   "cell_type": "markdown",
   "id": "everyday-basis",
   "metadata": {},
   "source": [
    "### Write a couple of functions to cut up each image into multiple equally-sized, square chunks\n",
    "\n",
    "*Since images are not necessarily going to be evenly-dissectable based on the size of the kithara for each, I'm taking two tactics to ensure full-coverage:*\n",
    "* Chopping each image up starting from the top left (`multiply_image`) and bottom right (`multiply_image_backward`) corners\n",
    "* Shifting the x and y start coordinates by 1/2 of the kithara image size at a time\n",
    "\n",
    "*To tag whether or not an image includes a full or partial kithara, I'm doing the following:*\n",
    "* Taking the x-y coordinates of the kithara image location (generated using `imagej`) and, if the image falls within those coordinates, tagging it as a kithara\n",
    "\n",
    "*To clean up the data generated, I'm doing the following:*\n",
    "* Deleting any non-square image from the folder with the cropped images\n",
    "* Resizing all of the square images to the same dimensions"
   ]
  },
  {
   "cell_type": "code",
   "execution_count": 24,
   "id": "union-summit",
   "metadata": {},
   "outputs": [],
   "source": [
    "# for each image in the folder\n",
    "# get the height and width of each image\n",
    "# then iterate over the image and create 1000 x 1000 pixel squares\n",
    "def multiply_image(name):\n",
    "    img = cv2.imread(\"../data/test/{}.jpg\".format(name))\n",
    "    y_max, x_max, _ = img.shape   \n",
    "    for y in range(0, y_max, 500):\n",
    "        start_y = y\n",
    "        end_y = y + 1000 \n",
    "        for x in range(0, x_max, 500):\n",
    "            start_x = x\n",
    "            end_x = x + 1000\n",
    "            cropped_img = img[start_y:end_y, start_x:end_x]\n",
    "            cv2.imwrite(\"../data/cropped_images/{}-{}-{}.png\".format(name, y, x), cropped_img)"
   ]
  },
  {
   "cell_type": "code",
   "execution_count": 26,
   "id": "dedicated-signature",
   "metadata": {},
   "outputs": [],
   "source": [
    "# go over the image but in reverse and create 1000 x 1000 pixel squares\n",
    "def multiply_image_backward(name):\n",
    "    # read in the image\n",
    "    img = cv2.imread(\"../data/test/{}.jpg\".format(name))\n",
    "    # get the size of the image\n",
    "    y_max, x_max, _ = img.shape\n",
    "    # incrementally move backward, starting at the bottom R corner\n",
    "    for y in range(y_max, 0, -500):\n",
    "        if y >= 1000:\n",
    "            start_y = y - 1000\n",
    "            end_y = y\n",
    "        else:\n",
    "            start_y = 0\n",
    "            end_y = y\n",
    "        for x in range(x_max, 0, -500):\n",
    "            if x >= 1000:\n",
    "                start_x = x - 1000\n",
    "                end_x = x\n",
    "            else:\n",
    "                start_x = 0\n",
    "                end_x = x\n",
    "            cropped_img = img[start_y:end_y, start_x:end_x]\n",
    "            cv2.imwrite(\"../data/cropped_images/back-{}-{}-{}.png\".format(name, end_y, end_x), cropped_img)\n",
    "    \n",
    "for path in glob.glob(\"../data/test/*.jpg\"):\n",
    "    name = os.path.splitext(os.path.basename(path))[0]\n"
   ]
  },
  {
   "cell_type": "code",
   "execution_count": 33,
   "id": "upper-visit",
   "metadata": {},
   "outputs": [],
   "source": [
    "# run the functions over the image folder    \n",
    "for path in glob.glob(\"../data/test/*.jpg\"):\n",
    "    name = os.path.splitext(os.path.basename(path))[0]\n",
    "    multiply_image(name)\n",
    "    multiply_image_backward(name)"
   ]
  },
  {
   "cell_type": "code",
   "execution_count": null,
   "id": "valuable-headquarters",
   "metadata": {},
   "outputs": [],
   "source": [
    "# Need to also:\n",
    "# get rid of incorrectly-sized images\n",
    "# create a variable to store the kithara size\n",
    "# create a variable to store the kithara location and name the file differently if it falls within the kithara range"
   ]
  }
 ],
 "metadata": {
  "kernelspec": {
   "display_name": "Python 3",
   "language": "python",
   "name": "python3"
  },
  "language_info": {
   "codemirror_mode": {
    "name": "ipython",
    "version": 3
   },
   "file_extension": ".py",
   "mimetype": "text/x-python",
   "name": "python",
   "nbconvert_exporter": "python",
   "pygments_lexer": "ipython3",
   "version": "3.7.10"
  }
 },
 "nbformat": 4,
 "nbformat_minor": 5
}
