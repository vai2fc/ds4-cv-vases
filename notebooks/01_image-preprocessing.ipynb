{
 "cells": [
  {
   "cell_type": "markdown",
   "id": "plastic-wilderness",
   "metadata": {},
   "source": [
    "# Generate Consistent Images for the CNN\n",
    "\n",
    "*Based on the code Chris Birchall used to [find Wally](https://tech.ovoenergy.com/cheating-at-wheres-wally/).*"
   ]
  },
  {
   "cell_type": "code",
   "execution_count": null,
   "id": "unnecessary-netherlands",
   "metadata": {},
   "outputs": [],
   "source": [
    "import cv2\n",
    "import glob\n",
    "import os.path"
   ]
  },
  {
   "cell_type": "code",
   "execution_count": null,
   "id": "sustainable-button",
   "metadata": {},
   "outputs": [],
   "source": [
    "# this sort-of works, however, it stalls out at the end of the image...\n",
    "def multiply_image(name):\n",
    "    img = cv2.imread(\"../data/test/{}.jpg\".format(name))\n",
    "    for y in range(0, 10000, 500):\n",
    "        start_y = y\n",
    "        end_y = y + 1000 \n",
    "        for x in range(0, 7600, 500):\n",
    "            start_x = x\n",
    "            end_x = (x+500) + 1000\n",
    "            cropped_img = img[start_y:end_y, start_x:end_x]\n",
    "            cv2.imwrite(\"../data/cropped_images/{}-{}-{}.png\".format(name, y, x), cropped_img)\n",
    "    \n",
    "for path in glob.glob(\"../data/test/*.jpg\"):\n",
    "    name = os.path.splitext(os.path.basename(path))[0]\n",
    "    multiply_image(name)"
   ]
  },
  {
   "cell_type": "code",
   "execution_count": null,
   "id": "concerned-password",
   "metadata": {},
   "outputs": [],
   "source": []
  }
 ],
 "metadata": {
  "kernelspec": {
   "display_name": "Python 3",
   "language": "python",
   "name": "python3"
  },
  "language_info": {
   "codemirror_mode": {
    "name": "ipython",
    "version": 3
   },
   "file_extension": ".py",
   "mimetype": "text/x-python",
   "name": "python",
   "nbconvert_exporter": "python",
   "pygments_lexer": "ipython3",
   "version": "3.7.10"
  }
 },
 "nbformat": 4,
 "nbformat_minor": 5
}
