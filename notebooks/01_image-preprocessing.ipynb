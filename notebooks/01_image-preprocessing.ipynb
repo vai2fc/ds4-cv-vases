{
 "cells": [
  {
   "cell_type": "markdown",
   "id": "mechanical-turning",
   "metadata": {},
   "source": [
    "# Generate Consistent Images for the CNN\n",
    "\n",
    "*Based on the code Chris Birchall used to [find Wally](https://tech.ovoenergy.com/cheating-at-wheres-wally/).*"
   ]
  },
  {
   "cell_type": "code",
   "execution_count": 1,
   "id": "unlimited-fluid",
   "metadata": {},
   "outputs": [],
   "source": [
    "import cv2\n",
    "import glob\n",
    "import os.path"
   ]
  },
  {
   "cell_type": "code",
   "execution_count": 15,
   "id": "seasonal-finder",
   "metadata": {},
   "outputs": [],
   "source": [
    "# go over image and create 1000 x 1000 pixel squares\n",
    "def multiply_image(name):\n",
    "    img = cv2.imread(\"../data/test/{}.jpg\".format(name))\n",
    "    for y in range(0, 7680, 500):\n",
    "        start_y = y\n",
    "        end_y = y + 1000 \n",
    "        for x in range(0, 10032, 500):\n",
    "            start_x = x\n",
    "            end_x = x + 1000\n",
    "            cropped_img = img[start_y:end_y, start_x:end_x]\n",
    "            cv2.imwrite(\"../data/cropped_images/{}-{}-{}.png\".format(name, y, x), cropped_img)\n",
    "    \n",
    "for path in glob.glob(\"../data/test/*.jpg\"):\n",
    "    name = os.path.splitext(os.path.basename(path))[0]\n",
    "    multiply_image(name)"
   ]
  },
  {
   "cell_type": "code",
   "execution_count": 16,
   "id": "large-withdrawal",
   "metadata": {},
   "outputs": [],
   "source": [
    "# go over the image but in reverse and create 1000 x 1000 pixel squares\n",
    "def multiply_image(name):\n",
    "    img = cv2.imread(\"../data/test/{}.jpg\".format(name))\n",
    "    for y in range(7680, 0, -500):\n",
    "        if y >= 1000:\n",
    "            start_y = y - 1000\n",
    "            end_y = y\n",
    "        else:\n",
    "            start_y = 0\n",
    "            end_y = y\n",
    "        for x in range(10032, 0, -500):\n",
    "            if x >= 1000:\n",
    "                start_x = x - 1000\n",
    "                end_x = x\n",
    "            else:\n",
    "                start_x = 0\n",
    "                end_x = x\n",
    "            cropped_img = img[start_y:end_y, start_x:end_x]\n",
    "            cv2.imwrite(\"../data/cropped_images/back-{}-{}-{}.png\".format(name, y, x), cropped_img)\n",
    "    \n",
    "for path in glob.glob(\"../data/test/*.jpg\"):\n",
    "    name = os.path.splitext(os.path.basename(path))[0]\n",
    "    multiply_image(name)"
   ]
  },
  {
   "cell_type": "code",
   "execution_count": null,
   "id": "amended-privacy",
   "metadata": {},
   "outputs": [],
   "source": []
  }
 ],
 "metadata": {
  "kernelspec": {
   "display_name": "Python 3",
   "language": "python",
   "name": "python3"
  },
  "language_info": {
   "codemirror_mode": {
    "name": "ipython",
    "version": 3
   },
   "file_extension": ".py",
   "mimetype": "text/x-python",
   "name": "python",
   "nbconvert_exporter": "python",
   "pygments_lexer": "ipython3",
   "version": "3.7.10"
  }
 },
 "nbformat": 4,
 "nbformat_minor": 5
}
