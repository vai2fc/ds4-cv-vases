{
 "cells": [
  {
   "cell_type": "markdown",
   "id": "4dd9be56",
   "metadata": {},
   "source": [
    "# Create Visualizations of Processing Steps for Demo Day"
   ]
  },
  {
   "cell_type": "code",
   "execution_count": null,
   "id": "5d8e02e0",
   "metadata": {},
   "outputs": [],
   "source": [
    "# import libraries\n",
    "from tensorflow.keras import models, preprocessing\n",
    "from tensorflow.keras.preprocessing import image\n",
    "from PIL import Image\n",
    "import os\n",
    "import pandas as pd\n",
    "import matplotlib.pyplot as plt\n",
    "import numpy as np"
   ]
  },
  {
   "cell_type": "markdown",
   "id": "90b6fd4d",
   "metadata": {},
   "source": [
    "### Show the types of image augmentation performed, based on a sample dataset"
   ]
  },
  {
   "cell_type": "code",
   "execution_count": null,
   "id": "97e6f4cb",
   "metadata": {},
   "outputs": [],
   "source": [
    "# create path to data\n",
    "kithara_path = os.path.dirname(os.getcwd()) + '\\\\data\\\\visualizations\\\\'"
   ]
  },
  {
   "cell_type": "code",
   "execution_count": null,
   "id": "c1f70373",
   "metadata": {},
   "outputs": [],
   "source": [
    "kithara_path"
   ]
  },
  {
   "cell_type": "code",
   "execution_count": null,
   "id": "c37b67c0",
   "metadata": {},
   "outputs": [],
   "source": [
    "# create an image data generator for the training and testing images\n",
    "viz_datagen = image.ImageDataGenerator(\n",
    "                rescale = 1./255,\n",
    "                rotation_range = 90,\n",
    "                width_shift_range = 0.2,\n",
    "                height_shift_range = 0.2,\n",
    "                brightness_range = [0.5, 1.5],\n",
    "                shear_range = 0.2,\n",
    "                zoom_range = 0.2,\n",
    "                horizontal_flip=True)"
   ]
  },
  {
   "cell_type": "code",
   "execution_count": null,
   "id": "6e7a8c5c",
   "metadata": {},
   "outputs": [],
   "source": [
    "viz_data = viz_datagen.flow_from_directory(\n",
    "            kithara_path,\n",
    "            target_size = (558,558),\n",
    "            batch_size = 1,\n",
    "            shuffle = False,\n",
    "            seed = 42)"
   ]
  },
  {
   "cell_type": "code",
   "execution_count": null,
   "id": "14e7143a",
   "metadata": {},
   "outputs": [],
   "source": [
    "width=558\n",
    "height=558\n",
    "rows = 4\n",
    "cols = 4\n",
    "axes=[]\n",
    "fig=plt.figure()\n",
    "\n",
    "for a in range(rows*cols):\n",
    "    img, label = viz_data.next()\n",
    "    b = img[0]\n",
    "    axes.append(fig.add_subplot(rows, cols, a+1) )\n",
    "    plt.imshow(b)\n",
    "    plt.axis('off')\n",
    "fig.tight_layout()    \n",
    "plt.show()\n",
    "\n",
    "fig.savefig('../data/visualizations/image-transformations.png', dpi = 500)"
   ]
  },
  {
   "cell_type": "code",
   "execution_count": null,
   "id": "48a186c4",
   "metadata": {},
   "outputs": [],
   "source": []
  }
 ],
 "metadata": {
  "kernelspec": {
   "display_name": "Python 3",
   "language": "python",
   "name": "python3"
  },
  "language_info": {
   "codemirror_mode": {
    "name": "ipython",
    "version": 3
   },
   "file_extension": ".py",
   "mimetype": "text/x-python",
   "name": "python",
   "nbconvert_exporter": "python",
   "pygments_lexer": "ipython3",
   "version": "3.9.4"
  }
 },
 "nbformat": 4,
 "nbformat_minor": 5
}
