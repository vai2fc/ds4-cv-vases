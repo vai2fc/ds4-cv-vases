{
 "cells": [
  {
   "cell_type": "markdown",
   "metadata": {},
   "source": [
    "# Preprocess an image\n",
    "\n",
    "*This notebook prepares images of vases for the image recognition process.*  \n",
    "\n",
    "*The functions `multiply_image` and `multiply_image_backward` are based on the code Chris Birchall used to [find Wally](https://tech.ovoenergy.com/cheating-at-wheres-wally/).*  \n",
    "\n",
    "*The functions leverage `opencv` functionality to automatically detect image size (per [this resource](https://note.nkmk.me/en/python-opencv-pillow-image-size/)).*\n",
    "\n",
    "*[imagej](https://imagej.nih.gov/ij/) was used to identify the location of each kithara and write out x-y bounding box coordinates for each.*"
   ]
  },
  {
   "cell_type": "code",
   "execution_count": 1,
   "metadata": {},
   "outputs": [],
   "source": [
    "# import necessary libraries\n",
    "import cv2\n",
    "import glob\n",
    "import os.path\n",
    "import pandas as pd\n",
    "import numpy as np"
   ]
  },
  {
   "cell_type": "markdown",
   "metadata": {},
   "source": [
    "### Write functions to cut up each image into multiple equally-sized, square chunks\n",
    "\n",
    "*Since images are not necessarily going to be evenly-dissectable based on the size of the kithara for each, I'm taking two tactics to ensure full-coverage:*\n",
    "* Based on a square box sized to the greater of the x or y extent of the kithara in the image, chopping each image up starting from the top left (`multiply_image`) and bottom right (`multiply_image_backward`) corners\n",
    "* Shifting the x and y start coordinates by 1/2 of the kithara image size at a time\n",
    "\n",
    "*To tag whether or not an image includes a full or partial kithara, I'm doing the following:*\n",
    "* Taking the x-y coordinates of the kithara image location (generated using `imagej` and squared-off in the functions below) and, if the image falls within those coordinates, tagging it as a kithara\n",
    "* Writing the kithara images to a different folder with different file-naming conventions to make them easy to identify\n",
    "\n",
    "*To clean up the data generated, I'm doing the following:*\n",
    "* Only saving cropped images where the x and y axis are the same length (i.e. removing 'remainder' images)\n",
    "* Resizing all of the square images to the same dimensions (specifically, upscaling and downscaling images to the median height of a kithara, 558 pixels - note that I'm using the median height of a kithara since it is slightly larger than the median kithara width of 426 pixels)"
   ]
  },
  {
   "cell_type": "code",
   "execution_count": 40,
   "metadata": {},
   "outputs": [],
   "source": [
    "import matplotlib.pyplot as plt"
   ]
  },
  {
   "cell_type": "code",
   "execution_count": 58,
   "metadata": {},
   "outputs": [],
   "source": [
    "# set display options\n",
    "pd.set_option('display.max_colwidth', None)\n",
    "pd.set_option('display.max_rows', None)\n",
    "pd.set_option('display.max_columns', None)"
   ]
  },
  {
   "cell_type": "code",
   "execution_count": 32,
   "metadata": {},
   "outputs": [],
   "source": [
    "kitharai = pd.read_csv('../data/kithara_listing.csv')"
   ]
  },
  {
   "cell_type": "code",
   "execution_count": 33,
   "metadata": {},
   "outputs": [
    {
     "data": {
      "text/html": [
       "<div>\n",
       "<style scoped>\n",
       "    .dataframe tbody tr th:only-of-type {\n",
       "        vertical-align: middle;\n",
       "    }\n",
       "\n",
       "    .dataframe tbody tr th {\n",
       "        vertical-align: top;\n",
       "    }\n",
       "\n",
       "    .dataframe thead th {\n",
       "        text-align: right;\n",
       "    }\n",
       "</style>\n",
       "<table border=\"1\" class=\"dataframe\">\n",
       "  <thead>\n",
       "    <tr style=\"text-align: right;\">\n",
       "      <th></th>\n",
       "      <th>kithara_type</th>\n",
       "      <th>image</th>\n",
       "      <th>image_width</th>\n",
       "      <th>image_height</th>\n",
       "      <th>kithara_type.1</th>\n",
       "      <th>kithara_width</th>\n",
       "      <th>kithara_height</th>\n",
       "      <th>notes</th>\n",
       "    </tr>\n",
       "  </thead>\n",
       "  <tbody>\n",
       "    <tr>\n",
       "      <th>0</th>\n",
       "      <td>1_(KI)</td>\n",
       "      <td>IMAG1542.jpg</td>\n",
       "      <td>7680</td>\n",
       "      <td>7536.0</td>\n",
       "      <td>KI</td>\n",
       "      <td>290.0</td>\n",
       "      <td>366.0</td>\n",
       "      <td>poor quality</td>\n",
       "    </tr>\n",
       "    <tr>\n",
       "      <th>1</th>\n",
       "      <td>1_(KI)</td>\n",
       "      <td>IMAG1892.jpg</td>\n",
       "      <td>7680</td>\n",
       "      <td>8256.0</td>\n",
       "      <td>KI</td>\n",
       "      <td>246.0</td>\n",
       "      <td>398.0</td>\n",
       "      <td>partially obscured</td>\n",
       "    </tr>\n",
       "    <tr>\n",
       "      <th>2</th>\n",
       "      <td>1_(KI)</td>\n",
       "      <td>IMAG2172.jpg</td>\n",
       "      <td>7680</td>\n",
       "      <td>10032.0</td>\n",
       "      <td>KI</td>\n",
       "      <td>456.0</td>\n",
       "      <td>573.0</td>\n",
       "      <td>being played</td>\n",
       "    </tr>\n",
       "    <tr>\n",
       "      <th>3</th>\n",
       "      <td>1_(AKI)</td>\n",
       "      <td>IMAG2463.jpg</td>\n",
       "      <td>7680</td>\n",
       "      <td>8208.0</td>\n",
       "      <td>AKI</td>\n",
       "      <td>477.0</td>\n",
       "      <td>462.0</td>\n",
       "      <td>partially obscured</td>\n",
       "    </tr>\n",
       "    <tr>\n",
       "      <th>4</th>\n",
       "      <td>1_(AKI)</td>\n",
       "      <td>IMAG2467.jpg</td>\n",
       "      <td>7680</td>\n",
       "      <td>7200.0</td>\n",
       "      <td>AKI</td>\n",
       "      <td>522.0</td>\n",
       "      <td>678.0</td>\n",
       "      <td>not complete</td>\n",
       "    </tr>\n",
       "  </tbody>\n",
       "</table>\n",
       "</div>"
      ],
      "text/plain": [
       "  kithara_type         image image_width  image_height kithara_type.1  \\\n",
       "0       1_(KI)  IMAG1542.jpg        7680        7536.0             KI   \n",
       "1       1_(KI)  IMAG1892.jpg        7680        8256.0             KI   \n",
       "2       1_(KI)  IMAG2172.jpg        7680       10032.0             KI   \n",
       "3      1_(AKI)  IMAG2463.jpg        7680        8208.0            AKI   \n",
       "4      1_(AKI)  IMAG2467.jpg        7680        7200.0            AKI   \n",
       "\n",
       "   kithara_width  kithara_height               notes  \n",
       "0          290.0           366.0        poor quality  \n",
       "1          246.0           398.0  partially obscured  \n",
       "2          456.0           573.0        being played  \n",
       "3          477.0           462.0  partially obscured  \n",
       "4          522.0           678.0        not complete  "
      ]
     },
     "execution_count": 33,
     "metadata": {},
     "output_type": "execute_result"
    }
   ],
   "source": [
    "kitharai.head()"
   ]
  },
  {
   "cell_type": "code",
   "execution_count": 34,
   "metadata": {},
   "outputs": [
    {
     "name": "stdout",
     "output_type": "stream",
     "text": [
      "<class 'pandas.core.frame.DataFrame'>\n",
      "RangeIndex: 683 entries, 0 to 682\n",
      "Data columns (total 8 columns):\n",
      " #   Column          Non-Null Count  Dtype  \n",
      "---  ------          --------------  -----  \n",
      " 0   kithara_type    683 non-null    object \n",
      " 1   image           683 non-null    object \n",
      " 2   image_width     372 non-null    object \n",
      " 3   image_height    368 non-null    float64\n",
      " 4   kithara_type.1  368 non-null    object \n",
      " 5   kithara_width   368 non-null    float64\n",
      " 6   kithara_height  368 non-null    float64\n",
      " 7   notes           228 non-null    object \n",
      "dtypes: float64(3), object(5)\n",
      "memory usage: 42.8+ KB\n"
     ]
    }
   ],
   "source": [
    "kitharai.info()"
   ]
  },
  {
   "cell_type": "code",
   "execution_count": 35,
   "metadata": {},
   "outputs": [],
   "source": [
    "kitharai = kitharai.drop(kitharai.index[345:349])"
   ]
  },
  {
   "cell_type": "code",
   "execution_count": 36,
   "metadata": {},
   "outputs": [
    {
     "data": {
      "text/html": [
       "<div>\n",
       "<style scoped>\n",
       "    .dataframe tbody tr th:only-of-type {\n",
       "        vertical-align: middle;\n",
       "    }\n",
       "\n",
       "    .dataframe tbody tr th {\n",
       "        vertical-align: top;\n",
       "    }\n",
       "\n",
       "    .dataframe thead th {\n",
       "        text-align: right;\n",
       "    }\n",
       "</style>\n",
       "<table border=\"1\" class=\"dataframe\">\n",
       "  <thead>\n",
       "    <tr style=\"text-align: right;\">\n",
       "      <th></th>\n",
       "      <th>kithara_type</th>\n",
       "      <th>image</th>\n",
       "      <th>image_width</th>\n",
       "      <th>image_height</th>\n",
       "      <th>kithara_type.1</th>\n",
       "      <th>kithara_width</th>\n",
       "      <th>kithara_height</th>\n",
       "      <th>notes</th>\n",
       "    </tr>\n",
       "  </thead>\n",
       "  <tbody>\n",
       "    <tr>\n",
       "      <th>344</th>\n",
       "      <td>2_(AU),2_(TYM),1_(AKI)</td>\n",
       "      <td>IMAG2764.jpg</td>\n",
       "      <td>7680</td>\n",
       "      <td>8496.0</td>\n",
       "      <td>AKI</td>\n",
       "      <td>173.0</td>\n",
       "      <td>248.0</td>\n",
       "      <td>being played</td>\n",
       "    </tr>\n",
       "    <tr>\n",
       "      <th>349</th>\n",
       "      <td>1_(CHYL)</td>\n",
       "      <td>IMAG5979.jpg</td>\n",
       "      <td>7680</td>\n",
       "      <td>8160.0</td>\n",
       "      <td>CHYL</td>\n",
       "      <td>774.0</td>\n",
       "      <td>1098.0</td>\n",
       "      <td>being played</td>\n",
       "    </tr>\n",
       "    <tr>\n",
       "      <th>350</th>\n",
       "      <td>1_(CHYL)</td>\n",
       "      <td>IMAG5980.jpg</td>\n",
       "      <td>7680</td>\n",
       "      <td>8256.0</td>\n",
       "      <td>CHYL</td>\n",
       "      <td>546.0</td>\n",
       "      <td>873.0</td>\n",
       "      <td>being played</td>\n",
       "    </tr>\n",
       "    <tr>\n",
       "      <th>351</th>\n",
       "      <td>1_(CHYL)</td>\n",
       "      <td>IMAG5981.jpg</td>\n",
       "      <td>NaN</td>\n",
       "      <td>NaN</td>\n",
       "      <td>NaN</td>\n",
       "      <td>NaN</td>\n",
       "      <td>NaN</td>\n",
       "      <td>NaN</td>\n",
       "    </tr>\n",
       "    <tr>\n",
       "      <th>352</th>\n",
       "      <td>1_(CHYL)</td>\n",
       "      <td>IMAG5991.jpg</td>\n",
       "      <td>7680</td>\n",
       "      <td>8928.0</td>\n",
       "      <td>CHYL</td>\n",
       "      <td>906.0</td>\n",
       "      <td>1104.0</td>\n",
       "      <td>being played</td>\n",
       "    </tr>\n",
       "    <tr>\n",
       "      <th>...</th>\n",
       "      <td>...</td>\n",
       "      <td>...</td>\n",
       "      <td>...</td>\n",
       "      <td>...</td>\n",
       "      <td>...</td>\n",
       "      <td>...</td>\n",
       "      <td>...</td>\n",
       "      <td>...</td>\n",
       "    </tr>\n",
       "    <tr>\n",
       "      <th>678</th>\n",
       "      <td>1_(AKI)</td>\n",
       "      <td>IMAG9975.jpg</td>\n",
       "      <td>7680</td>\n",
       "      <td>11280.0</td>\n",
       "      <td>AKI</td>\n",
       "      <td>305.0</td>\n",
       "      <td>411.0</td>\n",
       "      <td>weird</td>\n",
       "    </tr>\n",
       "    <tr>\n",
       "      <th>679</th>\n",
       "      <td>1_(AKI)</td>\n",
       "      <td>IMAG9976.jpg</td>\n",
       "      <td>NaN</td>\n",
       "      <td>NaN</td>\n",
       "      <td>NaN</td>\n",
       "      <td>NaN</td>\n",
       "      <td>NaN</td>\n",
       "      <td>NaN</td>\n",
       "    </tr>\n",
       "    <tr>\n",
       "      <th>680</th>\n",
       "      <td>1_(AKI)</td>\n",
       "      <td>IMAG9977.jpg</td>\n",
       "      <td>NaN</td>\n",
       "      <td>NaN</td>\n",
       "      <td>NaN</td>\n",
       "      <td>NaN</td>\n",
       "      <td>NaN</td>\n",
       "      <td>NaN</td>\n",
       "    </tr>\n",
       "    <tr>\n",
       "      <th>681</th>\n",
       "      <td>1_(AKI)</td>\n",
       "      <td>IMAG9978.jpg</td>\n",
       "      <td>NaN</td>\n",
       "      <td>NaN</td>\n",
       "      <td>NaN</td>\n",
       "      <td>NaN</td>\n",
       "      <td>NaN</td>\n",
       "      <td>NaN</td>\n",
       "    </tr>\n",
       "    <tr>\n",
       "      <th>682</th>\n",
       "      <td>1_(AKI)</td>\n",
       "      <td>IMAG9979.jpg</td>\n",
       "      <td>NaN</td>\n",
       "      <td>NaN</td>\n",
       "      <td>NaN</td>\n",
       "      <td>NaN</td>\n",
       "      <td>NaN</td>\n",
       "      <td>NaN</td>\n",
       "    </tr>\n",
       "  </tbody>\n",
       "</table>\n",
       "<p>335 rows × 8 columns</p>\n",
       "</div>"
      ],
      "text/plain": [
       "               kithara_type          image image_width  image_height  \\\n",
       "344  2_(AU),2_(TYM),1_(AKI)   IMAG2764.jpg        7680        8496.0   \n",
       "349                1_(CHYL)   IMAG5979.jpg        7680        8160.0   \n",
       "350                1_(CHYL)   IMAG5980.jpg        7680        8256.0   \n",
       "351                1_(CHYL)   IMAG5981.jpg         NaN           NaN   \n",
       "352                1_(CHYL)   IMAG5991.jpg        7680        8928.0   \n",
       "..                      ...            ...         ...           ...   \n",
       "678                 1_(AKI)   IMAG9975.jpg        7680       11280.0   \n",
       "679                 1_(AKI)   IMAG9976.jpg         NaN           NaN   \n",
       "680                 1_(AKI)   IMAG9977.jpg         NaN           NaN   \n",
       "681                 1_(AKI)   IMAG9978.jpg         NaN           NaN   \n",
       "682                 1_(AKI)   IMAG9979.jpg         NaN           NaN   \n",
       "\n",
       "    kithara_type.1  kithara_width  kithara_height         notes  \n",
       "344            AKI          173.0           248.0  being played  \n",
       "349           CHYL          774.0          1098.0  being played  \n",
       "350           CHYL          546.0           873.0  being played  \n",
       "351            NaN            NaN             NaN           NaN  \n",
       "352           CHYL          906.0          1104.0  being played  \n",
       "..             ...            ...             ...           ...  \n",
       "678            AKI          305.0           411.0         weird  \n",
       "679            NaN            NaN             NaN           NaN  \n",
       "680            NaN            NaN             NaN           NaN  \n",
       "681            NaN            NaN             NaN           NaN  \n",
       "682            NaN            NaN             NaN           NaN  \n",
       "\n",
       "[335 rows x 8 columns]"
      ]
     },
     "execution_count": 36,
     "metadata": {},
     "output_type": "execute_result"
    }
   ],
   "source": [
    "kitharai.loc[344:]"
   ]
  },
  {
   "cell_type": "code",
   "execution_count": 37,
   "metadata": {},
   "outputs": [],
   "source": [
    "kitharai['image_height'] = pd.to_numeric(kitharai['image_height'])\n",
    "kitharai['image_width'] = pd.to_numeric(kitharai['image_width'])"
   ]
  },
  {
   "cell_type": "code",
   "execution_count": 38,
   "metadata": {},
   "outputs": [],
   "source": [
    "kitharai['width_proportion'] = kitharai.kithara_width / kitharai.image_width\n",
    "kitharai['height_proportion'] = kitharai.kithara_height / kitharai.image_height"
   ]
  },
  {
   "cell_type": "code",
   "execution_count": 39,
   "metadata": {},
   "outputs": [
    {
     "data": {
      "text/html": [
       "<div>\n",
       "<style scoped>\n",
       "    .dataframe tbody tr th:only-of-type {\n",
       "        vertical-align: middle;\n",
       "    }\n",
       "\n",
       "    .dataframe tbody tr th {\n",
       "        vertical-align: top;\n",
       "    }\n",
       "\n",
       "    .dataframe thead th {\n",
       "        text-align: right;\n",
       "    }\n",
       "</style>\n",
       "<table border=\"1\" class=\"dataframe\">\n",
       "  <thead>\n",
       "    <tr style=\"text-align: right;\">\n",
       "      <th></th>\n",
       "      <th>kithara_type</th>\n",
       "      <th>image</th>\n",
       "      <th>image_width</th>\n",
       "      <th>image_height</th>\n",
       "      <th>kithara_type.1</th>\n",
       "      <th>kithara_width</th>\n",
       "      <th>kithara_height</th>\n",
       "      <th>notes</th>\n",
       "      <th>width_proportion</th>\n",
       "      <th>height_proportion</th>\n",
       "    </tr>\n",
       "  </thead>\n",
       "  <tbody>\n",
       "    <tr>\n",
       "      <th>0</th>\n",
       "      <td>1_(KI)</td>\n",
       "      <td>IMAG1542.jpg</td>\n",
       "      <td>7680.0</td>\n",
       "      <td>7536.0</td>\n",
       "      <td>KI</td>\n",
       "      <td>290.0</td>\n",
       "      <td>366.0</td>\n",
       "      <td>poor quality</td>\n",
       "      <td>0.037760</td>\n",
       "      <td>0.048567</td>\n",
       "    </tr>\n",
       "    <tr>\n",
       "      <th>1</th>\n",
       "      <td>1_(KI)</td>\n",
       "      <td>IMAG1892.jpg</td>\n",
       "      <td>7680.0</td>\n",
       "      <td>8256.0</td>\n",
       "      <td>KI</td>\n",
       "      <td>246.0</td>\n",
       "      <td>398.0</td>\n",
       "      <td>partially obscured</td>\n",
       "      <td>0.032031</td>\n",
       "      <td>0.048207</td>\n",
       "    </tr>\n",
       "    <tr>\n",
       "      <th>2</th>\n",
       "      <td>1_(KI)</td>\n",
       "      <td>IMAG2172.jpg</td>\n",
       "      <td>7680.0</td>\n",
       "      <td>10032.0</td>\n",
       "      <td>KI</td>\n",
       "      <td>456.0</td>\n",
       "      <td>573.0</td>\n",
       "      <td>being played</td>\n",
       "      <td>0.059375</td>\n",
       "      <td>0.057117</td>\n",
       "    </tr>\n",
       "    <tr>\n",
       "      <th>3</th>\n",
       "      <td>1_(AKI)</td>\n",
       "      <td>IMAG2463.jpg</td>\n",
       "      <td>7680.0</td>\n",
       "      <td>8208.0</td>\n",
       "      <td>AKI</td>\n",
       "      <td>477.0</td>\n",
       "      <td>462.0</td>\n",
       "      <td>partially obscured</td>\n",
       "      <td>0.062109</td>\n",
       "      <td>0.056287</td>\n",
       "    </tr>\n",
       "    <tr>\n",
       "      <th>4</th>\n",
       "      <td>1_(AKI)</td>\n",
       "      <td>IMAG2467.jpg</td>\n",
       "      <td>7680.0</td>\n",
       "      <td>7200.0</td>\n",
       "      <td>AKI</td>\n",
       "      <td>522.0</td>\n",
       "      <td>678.0</td>\n",
       "      <td>not complete</td>\n",
       "      <td>0.067969</td>\n",
       "      <td>0.094167</td>\n",
       "    </tr>\n",
       "    <tr>\n",
       "      <th>...</th>\n",
       "      <td>...</td>\n",
       "      <td>...</td>\n",
       "      <td>...</td>\n",
       "      <td>...</td>\n",
       "      <td>...</td>\n",
       "      <td>...</td>\n",
       "      <td>...</td>\n",
       "      <td>...</td>\n",
       "      <td>...</td>\n",
       "      <td>...</td>\n",
       "    </tr>\n",
       "    <tr>\n",
       "      <th>678</th>\n",
       "      <td>1_(AKI)</td>\n",
       "      <td>IMAG9975.jpg</td>\n",
       "      <td>7680.0</td>\n",
       "      <td>11280.0</td>\n",
       "      <td>AKI</td>\n",
       "      <td>305.0</td>\n",
       "      <td>411.0</td>\n",
       "      <td>weird</td>\n",
       "      <td>0.039714</td>\n",
       "      <td>0.036436</td>\n",
       "    </tr>\n",
       "    <tr>\n",
       "      <th>679</th>\n",
       "      <td>1_(AKI)</td>\n",
       "      <td>IMAG9976.jpg</td>\n",
       "      <td>NaN</td>\n",
       "      <td>NaN</td>\n",
       "      <td>NaN</td>\n",
       "      <td>NaN</td>\n",
       "      <td>NaN</td>\n",
       "      <td>NaN</td>\n",
       "      <td>NaN</td>\n",
       "      <td>NaN</td>\n",
       "    </tr>\n",
       "    <tr>\n",
       "      <th>680</th>\n",
       "      <td>1_(AKI)</td>\n",
       "      <td>IMAG9977.jpg</td>\n",
       "      <td>NaN</td>\n",
       "      <td>NaN</td>\n",
       "      <td>NaN</td>\n",
       "      <td>NaN</td>\n",
       "      <td>NaN</td>\n",
       "      <td>NaN</td>\n",
       "      <td>NaN</td>\n",
       "      <td>NaN</td>\n",
       "    </tr>\n",
       "    <tr>\n",
       "      <th>681</th>\n",
       "      <td>1_(AKI)</td>\n",
       "      <td>IMAG9978.jpg</td>\n",
       "      <td>NaN</td>\n",
       "      <td>NaN</td>\n",
       "      <td>NaN</td>\n",
       "      <td>NaN</td>\n",
       "      <td>NaN</td>\n",
       "      <td>NaN</td>\n",
       "      <td>NaN</td>\n",
       "      <td>NaN</td>\n",
       "    </tr>\n",
       "    <tr>\n",
       "      <th>682</th>\n",
       "      <td>1_(AKI)</td>\n",
       "      <td>IMAG9979.jpg</td>\n",
       "      <td>NaN</td>\n",
       "      <td>NaN</td>\n",
       "      <td>NaN</td>\n",
       "      <td>NaN</td>\n",
       "      <td>NaN</td>\n",
       "      <td>NaN</td>\n",
       "      <td>NaN</td>\n",
       "      <td>NaN</td>\n",
       "    </tr>\n",
       "  </tbody>\n",
       "</table>\n",
       "<p>679 rows × 10 columns</p>\n",
       "</div>"
      ],
      "text/plain": [
       "    kithara_type          image  image_width  image_height kithara_type.1  \\\n",
       "0         1_(KI)   IMAG1542.jpg       7680.0        7536.0             KI   \n",
       "1         1_(KI)   IMAG1892.jpg       7680.0        8256.0             KI   \n",
       "2         1_(KI)   IMAG2172.jpg       7680.0       10032.0             KI   \n",
       "3        1_(AKI)   IMAG2463.jpg       7680.0        8208.0            AKI   \n",
       "4        1_(AKI)   IMAG2467.jpg       7680.0        7200.0            AKI   \n",
       "..           ...            ...          ...           ...            ...   \n",
       "678      1_(AKI)   IMAG9975.jpg       7680.0       11280.0            AKI   \n",
       "679      1_(AKI)   IMAG9976.jpg          NaN           NaN            NaN   \n",
       "680      1_(AKI)   IMAG9977.jpg          NaN           NaN            NaN   \n",
       "681      1_(AKI)   IMAG9978.jpg          NaN           NaN            NaN   \n",
       "682      1_(AKI)   IMAG9979.jpg          NaN           NaN            NaN   \n",
       "\n",
       "     kithara_width  kithara_height               notes  width_proportion  \\\n",
       "0            290.0           366.0        poor quality          0.037760   \n",
       "1            246.0           398.0  partially obscured          0.032031   \n",
       "2            456.0           573.0        being played          0.059375   \n",
       "3            477.0           462.0  partially obscured          0.062109   \n",
       "4            522.0           678.0        not complete          0.067969   \n",
       "..             ...             ...                 ...               ...   \n",
       "678          305.0           411.0               weird          0.039714   \n",
       "679            NaN             NaN                 NaN               NaN   \n",
       "680            NaN             NaN                 NaN               NaN   \n",
       "681            NaN             NaN                 NaN               NaN   \n",
       "682            NaN             NaN                 NaN               NaN   \n",
       "\n",
       "     height_proportion  \n",
       "0             0.048567  \n",
       "1             0.048207  \n",
       "2             0.057117  \n",
       "3             0.056287  \n",
       "4             0.094167  \n",
       "..                 ...  \n",
       "678           0.036436  \n",
       "679                NaN  \n",
       "680                NaN  \n",
       "681                NaN  \n",
       "682                NaN  \n",
       "\n",
       "[679 rows x 10 columns]"
      ]
     },
     "execution_count": 39,
     "metadata": {},
     "output_type": "execute_result"
    }
   ],
   "source": [
    "kitharai"
   ]
  },
  {
   "cell_type": "code",
   "execution_count": 48,
   "metadata": {},
   "outputs": [
    {
     "data": {
      "image/png": "[encoded data removed]",
      "text/plain": [
       "<Figure size 432x288 with 1 Axes>"
      ]
     },
     "metadata": {
      "needs_background": "light"
     },
     "output_type": "display_data"
    }
   ],
   "source": [
    "kitharai[kitharai['kithara_width'] <= 500].kithara_width.hist(bins = 30);"
   ]
  },
  {
   "cell_type": "code",
   "execution_count": 47,
   "metadata": {},
   "outputs": [
    {
     "data": {
      "image/png": "[encoded data removed]",
      "text/plain": [
       "<Figure size 432x288 with 1 Axes>"
      ]
     },
     "metadata": {
      "needs_background": "light"
     },
     "output_type": "display_data"
    }
   ],
   "source": [
    "kitharai[kitharai['kithara_height'] <= 800].kithara_height.hist(bins = 30);"
   ]
  },
  {
   "cell_type": "code",
   "execution_count": 50,
   "metadata": {
    "scrolled": true
   },
   "outputs": [
    {
     "data": {
      "image/png": "[encoded data removed]",
      "text/plain": [
       "<Figure size 432x288 with 1 Axes>"
      ]
     },
     "metadata": {
      "needs_background": "light"
     },
     "output_type": "display_data"
    }
   ],
   "source": [
    "kitharai.width_proportion.hist(bins = 50);"
   ]
  },
  {
   "cell_type": "code",
   "execution_count": 51,
   "metadata": {
    "scrolled": true
   },
   "outputs": [
    {
     "data": {
      "image/png": "[encoded data removed]",
      "text/plain": [
       "<Figure size 432x288 with 1 Axes>"
      ]
     },
     "metadata": {
      "needs_background": "light"
     },
     "output_type": "display_data"
    }
   ],
   "source": [
    "kitharai.height_proportion.hist(bins = 50);"
   ]
  },
  {
   "cell_type": "code",
   "execution_count": 54,
   "metadata": {},
   "outputs": [
    {
     "data": {
      "text/plain": [
       "count    368.000000\n",
       "mean       0.076610\n",
       "std        0.047511\n",
       "min        0.014323\n",
       "25%        0.047212\n",
       "50%        0.061202\n",
       "75%        0.093640\n",
       "max        0.392708\n",
       "Name: height_proportion, dtype: float64"
      ]
     },
     "execution_count": 54,
     "metadata": {},
     "output_type": "execute_result"
    }
   ],
   "source": [
    "kitharai.height_proportion.describe()"
   ]
  },
  {
   "cell_type": "code",
   "execution_count": 69,
   "metadata": {},
   "outputs": [
    {
     "data": {
      "text/plain": [
       "count    368.000000\n",
       "mean       0.065725\n",
       "std        0.039636\n",
       "min        0.012891\n",
       "25%        0.037402\n",
       "50%        0.055143\n",
       "75%        0.081055\n",
       "max        0.264062\n",
       "Name: width_proportion, dtype: float64"
      ]
     },
     "execution_count": 69,
     "metadata": {},
     "output_type": "execute_result"
    }
   ],
   "source": [
    "kitharai.width_proportion.describe()"
   ]
  },
  {
   "cell_type": "code",
   "execution_count": 64,
   "metadata": {},
   "outputs": [],
   "source": [
    "_, hbins10 = pd.qcut(kitharai['height_proportion'], q = 10, retbins = True)"
   ]
  },
  {
   "cell_type": "code",
   "execution_count": 65,
   "metadata": {},
   "outputs": [
    {
     "name": "stdout",
     "output_type": "stream",
     "text": [
      "[0.01432292 0.03386193 0.04420737 0.04878881 0.05326455 0.06120242\n",
      " 0.07270833 0.08455025 0.10388565 0.13705848 0.39270833]\n"
     ]
    }
   ],
   "source": [
    "print(hbins10)"
   ]
  },
  {
   "cell_type": "code",
   "execution_count": 67,
   "metadata": {},
   "outputs": [],
   "source": [
    "_, wbins10 = pd.qcut(kitharai['width_proportion'], q = 10, retbins = True)"
   ]
  },
  {
   "cell_type": "code",
   "execution_count": 68,
   "metadata": {},
   "outputs": [
    {
     "name": "stdout",
     "output_type": "stream",
     "text": [
      "[0.01289062 0.02795573 0.034375   0.04010417 0.04828125 0.05514323\n",
      " 0.06416667 0.07471354 0.08765625 0.11984522 0.2640625 ]\n"
     ]
    }
   ],
   "source": [
    "print(wbins10)"
   ]
  },
  {
   "cell_type": "markdown",
   "metadata": {},
   "source": [
    "*Based on the quartile and decile breakdowns of kithara `width_proportion` and `height_proportion`, the %s used will be:*\n",
    "* 10th %ile h: 3.4%, w: 2.8%, average: 3.1%\n",
    "* 25th %ile h: 4.7%, w: 3.7%, average: 4.2%\n",
    "* 50th %ile h: 6.1%, w: 5.5%, average: 5.8%\n",
    "* 75th %ile h: 9.4%, w: 8.1%, average: 8.8%\n",
    "* 90th %ile h: 13.7%, w: 12%, average: 12.9%"
   ]
  },
  {
   "cell_type": "markdown",
   "metadata": {},
   "source": [
    "#### Define `multiply_image` function\n",
    "\n",
    "*Scan over the image, from top left, and chop it into multiple equal-sized squares based on the %ile size. Save only square boxes (i.e. remove remainders).*"
   ]
  },
  {
   "cell_type": "code",
   "execution_count": 73,
   "metadata": {},
   "outputs": [],
   "source": [
    "# for each image in the folder\n",
    "# get the height and width of each image\n",
    "# iterate over the image and create pixel squares the same size\n",
    "# write cropped images out to separate folders\n",
    "\n",
    "def multiply_image(name):\n",
    "    # read in the image\n",
    "    img = cv2.imread(\"../data/test/{}.jpg\".format(name))\n",
    "    # get the size of the image\n",
    "    y_max, x_max, _ = img.shape\n",
    "    # calculate %ile sizes\n",
    "    y_size10 = int(y_max * 0.034375)\n",
    "    y_size25 = int(y_max * 0.047212)\n",
    "    y_size50 = int(y_max * 0.061202)\n",
    "    y_size75 = int(y_max * 0.093640)\n",
    "    y_size90 = int(y_max * 0.13705848)\n",
    "    x_size10 = int(x_max * 0.02795573)\n",
    "    x_size25 = int(x_max * 0.037402)\n",
    "    x_size50 = int(x_max * 0.05514323)\n",
    "    x_size75 = int(x_max * 0.081055)\n",
    "    x_size90 = int(x_max * 0.11984522)\n",
    "    # set the image size based on the larger of x or y\n",
    "    size10 = np.where(x_size10 > y_size10, x_size10, y_size10).item(0)\n",
    "    size25 = np.where(x_size25 > y_size25, x_size25, y_size25).item(0)\n",
    "    size50 = np.where(x_size50 > y_size50, x_size50, y_size50).item(0)\n",
    "    size75 = np.where(x_size75 > y_size75, x_size75, y_size75).item(0)\n",
    "    size90 = np.where(x_size90 > y_size90, x_size90, y_size90).item(0)\n",
    "    # set variable with sizes\n",
    "    sizes = [size10, size25, size50, size75, size90]\n",
    "    for size in sizes:\n",
    "        # set the increment to 1/2 the size of the larger of x or y length for the kithara\n",
    "        inc = int(size/2)\n",
    "        # incrementally move forward, starting at the top L corner, by 1/2 the largest dimension of the kithara size\n",
    "        # get a bunch of square images that are the size of the kithara (or smaller, if running into an edge)\n",
    "        for y in range(0, y_max, inc):\n",
    "            if y + size <= y_max:\n",
    "                start_y = y\n",
    "                end_y = y + size\n",
    "            else:\n",
    "                start_y = y\n",
    "                end_y = y_max            \n",
    "            for x in range(0, x_max, inc):\n",
    "                if x + size <= x_max:\n",
    "                    start_x = x\n",
    "                    end_x = x + size\n",
    "                else:\n",
    "                    start_x = x\n",
    "                    end_x = x_max\n",
    "                # create the cropped image based on the coordinates set above\n",
    "                cropped_img = img[start_y:end_y, start_x:end_x]\n",
    "                if (end_y - start_y) == (end_x - start_x):\n",
    "                    cv2.imwrite(\"../data/test/processed/{}-{}-{}-{}.jpg\".format(name, size, start_y, start_x), cropped_img)"
   ]
  },
  {
   "cell_type": "markdown",
   "metadata": {},
   "source": [
    "#### Run the function over the original image data"
   ]
  },
  {
   "cell_type": "code",
   "execution_count": 74,
   "metadata": {},
   "outputs": [],
   "source": [
    "# run the functions over the image folder    \n",
    "for path in glob.glob(\"../data/test/*.jpg\"):\n",
    "    name = os.path.splitext(os.path.basename(path))[0]\n",
    "    multiply_image(name)"
   ]
  },
  {
   "cell_type": "markdown",
   "metadata": {},
   "source": [
    "#### Define `image_scaler` function\n",
    "\n",
    "*Rescale the images to the median size of a kithara (558 x 558 pixels).*"
   ]
  },
  {
   "cell_type": "code",
   "execution_count": 11,
   "metadata": {},
   "outputs": [],
   "source": [
    "def image_scaler(folder, name):\n",
    "    img = cv2.imread(\"../data/images-cropped/{}/{}.jpg\".format(folder, name))\n",
    "    # create a variable to tell the function how much to scale the original up/down to 558x558 pixesl\n",
    "    scale_percent = 558 / (img.shape[0])\n",
    "    # create new dimensions tuple\n",
    "    width = int(img.shape[1] * scale_percent)\n",
    "    height = int(img.shape[0] * scale_percent)\n",
    "    dim = (width, height)\n",
    "    img = cv2.resize(img, dim, interpolation = cv2.INTER_AREA)\n",
    "    cv2.imwrite(\"../data/images-cropped/{}-resized/{}.jpg\".format(folder, name), img)"
   ]
  },
  {
   "cell_type": "code",
   "execution_count": 12,
   "metadata": {},
   "outputs": [],
   "source": [
    "# run the functions over the three subfolders in the cropped images folder\n",
    "for folder in ['kithara-full', 'kithara-partial', 'no-kithara']:\n",
    "    for path in glob.glob(\"../data/images-cropped/\"+folder+\"/*.jpg\"):\n",
    "        name = os.path.splitext(os.path.basename(path))[0]\n",
    "        image_scaler(folder, name)"
   ]
  },
  {
   "cell_type": "markdown",
   "metadata": {},
   "source": [
    "### Next Steps\n",
    "* ~~Tag images that intersect the boxes with the kithara in it~~\n",
    "* ~~Get rid of incorrectly-sized images~~\n",
    "* ~~Resize all images~~\n",
    "* ~~Test on a larger dataset~~\n",
    "* Refactor the functions above to prevent unnecessary duplication of work\n",
    "\n",
    "### Use AWS to process images\n",
    "* ~~Put images in an S3 bucket~~\n",
    "* ~~Use lambda to process~~ <-- ended up using another computer to process the images\n",
    "* ~~Put the standardized and resized images into another S3 bucket~~\n",
    "\n",
    "### Split the images into train / test groups\n",
    "* ~~Generate list of the image names in each folder~~\n",
    "* ~~Split the lists into train / test groups~~\n",
    "* ~~Organize the images into folders based on train / test split to set up for keras CNN~~ <-- see notebook 02\n",
    "\n",
    "### Train a model\n",
    "* ~~Using the keras `Inceptionv3` base, train a model to identify kitharai~~ <-- see notebook 03"
   ]
  },
  {
   "cell_type": "markdown",
   "metadata": {},
   "source": [
    "### Refactoring WIP\n",
    "\n",
    "*The following lines are a WIP to refactor the functions to run one to get the kithara metadata separately, as well as to optimize the image resizing function. Commented out for now while working on the rest of the project.*"
   ]
  },
  {
   "cell_type": "code",
   "execution_count": 13,
   "metadata": {},
   "outputs": [],
   "source": [
    "# This is the kithara metadata function\n",
    "# # create a function to get the coordinates of the kithara\n",
    "# def kithara_metadata(name):\n",
    "#     kithara = pd.read_csv('../data/coordinates/{}.csv'.format(name)).iloc[:, 1:]\n",
    "#     kx_min = kithara.x_top_left.values[0]\n",
    "#     kx_max = kithara.x_bottom_right.values[0]\n",
    "#     ky_min = kithara.y_top_left.values[0]\n",
    "#     ky_max = kithara.y_bottom_right.values[0]\n",
    "#     kx_size = kx_max - kx_min\n",
    "#     ky_size = ky_max - ky_min\n",
    "#     # set the image size based on the larger of x or y for the kithara\n",
    "#     k_max = np.where(kx_size > ky_size, kx_size, ky_size).item(0)\n",
    "#     # set the increment to 1/2 the size of the larger of x or y for the kithara\n",
    "#     k_inc = int(k_max/2)\n",
    "#     return {'kx_min': int(kx_min),\n",
    "#             'kx_max': int(kx_max),\n",
    "#             'ky_min': int(ky_min),\n",
    "#             'ky_max': int(ky_max),\n",
    "#             'kx_size': int(kx_size),\n",
    "#             'ky_size': int(ky_size),\n",
    "#             'k_max': int(k_max),\n",
    "#             'k_inc': int(k_inc)}"
   ]
  },
  {
   "cell_type": "code",
   "execution_count": 14,
   "metadata": {},
   "outputs": [],
   "source": [
    "# print(type(kithara_metadata('IMAG0009').get('kx_min')))"
   ]
  },
  {
   "cell_type": "code",
   "execution_count": 15,
   "metadata": {},
   "outputs": [],
   "source": [
    "# kithara_metadata('IMAG0009')"
   ]
  },
  {
   "cell_type": "code",
   "execution_count": 16,
   "metadata": {},
   "outputs": [],
   "source": [
    "# # for each image in the folder\n",
    "# # get the height and width of each image\n",
    "# # then iterate over the image and create 1000 x 1000 pixel squares\n",
    "# def multiply_image(name):\n",
    "#     # read in the image\n",
    "#     img = cv2.imread(\"../data/test/{}.jpg\".format(name))\n",
    "#     # get the size of the image\n",
    "#     y_max, x_max, _ = img.shape  \n",
    "#     # get the coordinates of the kithara\n",
    "#     k = kithara_metadata(name)\n",
    "#     # incrementally move forward, starting at the top L corner, by 1/2 the largest dimension of the kithara size\n",
    "#     # get a bunch of square images that are the size of the kithara\n",
    "#     for y in range(0, int(k.get('y_max')), int(k.get('k_inc'))):\n",
    "#         start_y = y\n",
    "#         end_y = y + int(k.get('k_max'))\n",
    "#         for x in range(0, int(k.get('x_max')), int(k.get('k_inc'))):\n",
    "#             start_x = x\n",
    "#             end_x = x + int(k.get('k_max'))\n",
    "#             # set the image coordinates\n",
    "#             cropped_img = img[start_y:end_y, start_x:end_x]\n",
    "#             # crop the image\n",
    "#             cv2.imwrite(\"../data/cropped_images/{}-{}-{}.png\".format(name, y, x), cropped_img)"
   ]
  },
  {
   "cell_type": "code",
   "execution_count": 17,
   "metadata": {},
   "outputs": [],
   "source": [
    "# # run the functions over the cropped images folder    \n",
    "# for path in glob.glob(\"../data/images-cropped/*/\"):\n",
    "#     folder = os.path.splitext(os.path.dirname(path))[0].split(\"/images-cropped/\")[1]\n",
    "#     for path in glob.glob(\"../data/images-cropped/\"+folder+\"/*.jpg\"):\n",
    "#         name = os.path.splitext(os.path.basename(path))[0]\n",
    "#         image_scaler(name)"
   ]
  }
 ],
 "metadata": {
  "kernelspec": {
   "display_name": "Python 3",
   "language": "python",
   "name": "python3"
  },
  "language_info": {
   "codemirror_mode": {
    "name": "ipython",
    "version": 3
   },
   "file_extension": ".py",
   "mimetype": "text/x-python",
   "name": "python",
   "nbconvert_exporter": "python",
   "pygments_lexer": "ipython3",
   "version": "3.8.3"
  }
 },
 "nbformat": 4,
 "nbformat_minor": 5
}
