{
 "cells": [
  {
   "cell_type": "markdown",
   "metadata": {},
   "source": [
    "# Preprocess an image\n",
    "\n",
    "*This notebook prepares images of vases located in the `data/test` folder for the image recognition process.*"
   ]
  },
  {
   "cell_type": "code",
   "execution_count": null,
   "metadata": {},
   "outputs": [],
   "source": [
    "# import necessary libraries\n",
    "import cv2\n",
    "import glob\n",
    "import os.path\n",
    "import pandas as pd\n",
    "import numpy as np"
   ]
  },
  {
   "cell_type": "markdown",
   "metadata": {},
   "source": [
    "### The following function chops up each image into multiple equally-sized, square pictures and resizes them to suit the trained image recognition model\n",
    "\n",
    "*Since we don't know **if** there is a kithara in the image, nor if there is one **how big** it might be:*\n",
    "* Identify the decile and quartile breakdowns of the proportion of image width and height that kitharai take up on the labeled dataset\n",
    "* Based on a square box sized to the 25th, 50th, and 75th percentile of the `proportion of image width * total image width` and `proportion of image height * total image height` (see `demo-00_analysis-notes` notebook for percentile breakdowns), chop each image up starting from the top left (`multiply_image`) corner\n",
    "* Shift the x and y start coordinates by 1/2 of the calculated image box size at a time\n",
    "\n",
    "*To clean up the data generated:*\n",
    "* Save cropped images where the x and y axis are the same length (i.e. remove 'remainder' images)\n",
    "* Resize all of the square images to the same dimensions (specifically, upscale and downscale images to 558 pixels - the size of the training images)"
   ]
  },
  {
   "cell_type": "code",
   "execution_count": null,
   "metadata": {},
   "outputs": [],
   "source": [
    "# for each image in the folder\n",
    "# get the height and width of each image\n",
    "# iterate over the image and create equally-sized squares\n",
    "# resize the images to the model input size\n",
    "# write cropped images out to separate folders\n",
    "\n",
    "def multiply_image(name):\n",
    "    # read in the image\n",
    "    img = cv2.imread(\"../data/test/{}.jpg\".format(name))\n",
    "    # get the size of the image\n",
    "    y_max, x_max, _ = img.shape\n",
    "    # calculate %ile sizes\n",
    "    y_size10 = int(y_max * 0.034375)\n",
    "    y_size25 = int(y_max * 0.047212)\n",
    "    y_size50 = int(y_max * 0.061202)\n",
    "    y_size75 = int(y_max * 0.093640)\n",
    "    y_size90 = int(y_max * 0.13705848)\n",
    "    x_size10 = int(x_max * 0.02795573)\n",
    "    x_size25 = int(x_max * 0.037402)\n",
    "    x_size50 = int(x_max * 0.05514323)\n",
    "    x_size75 = int(x_max * 0.081055)\n",
    "    x_size90 = int(x_max * 0.11984522)\n",
    "    # set the image size based on the larger of x or y\n",
    "    size10 = np.where(x_size10 > y_size10, x_size10, y_size10).item(0)\n",
    "    size25 = np.where(x_size25 > y_size25, x_size25, y_size25).item(0)\n",
    "    size50 = np.where(x_size50 > y_size50, x_size50, y_size50).item(0)\n",
    "    size75 = np.where(x_size75 > y_size75, x_size75, y_size75).item(0)\n",
    "    size90 = np.where(x_size90 > y_size90, x_size90, y_size90).item(0)\n",
    "    # set variable with sizes\n",
    "    sizes = [size10, size25, size50, size75, size90]\n",
    "    for size in sizes:\n",
    "        # set the increment to 1/2 the size of the larger of x or y length for the kithara\n",
    "        inc = int(size/2)\n",
    "        # incrementally move forward, starting at the top L corner, by 1/2 the largest dimension of the kithara size\n",
    "        # get a bunch of square images that are the size of the kithara (or smaller, if running into an edge)\n",
    "        for y in range(0, y_max, inc):\n",
    "            if y + size <= y_max:\n",
    "                start_y = y\n",
    "                end_y = y + size\n",
    "            else:\n",
    "                start_y = y\n",
    "                end_y = y_max            \n",
    "            for x in range(0, x_max, inc):\n",
    "                if x + size <= x_max:\n",
    "                    start_x = x\n",
    "                    end_x = x + size\n",
    "                else:\n",
    "                    start_x = x\n",
    "                    end_x = x_max\n",
    "                # create the cropped image based on the coordinates set above\n",
    "                cropped_img = img[start_y:end_y, start_x:end_x]\n",
    "                if (end_y - start_y) == (end_x - start_x):\n",
    "                    # create a variable to tell the function how much to scale the original up/down to 558x558 pixesl\n",
    "                    scale_percent = 558 / (cropped_img.shape[0])\n",
    "                    # create new dimensions tuple\n",
    "                    width = int(cropped_img.shape[1] * scale_percent)\n",
    "                    height = int(cropped_img.shape[0] * scale_percent)\n",
    "                    dim = (width, height)\n",
    "                    # resize the image\n",
    "                    cropped_img = cv2.resize(cropped_img, dim, interpolation = cv2.INTER_AREA)\n",
    "                    # write the resized image out\n",
    "                    cv2.imwrite(\"../data/test/processed/{}-{}-{}-{}.jpg\".format(name, size, start_y, start_x), cropped_img)"
   ]
  },
  {
   "cell_type": "markdown",
   "metadata": {},
   "source": [
    "#### Run the function over the image test data"
   ]
  },
  {
   "cell_type": "code",
   "execution_count": null,
   "metadata": {},
   "outputs": [],
   "source": [
    "# run the functions over the image folder    \n",
    "for path in glob.glob(\"../data/test/*.jpg\"):\n",
    "    name = os.path.splitext(os.path.basename(path))[0]\n",
    "    multiply_image(name)"
   ]
  }
 ],
 "metadata": {
  "kernelspec": {
   "display_name": "Python 3",
   "language": "python",
   "name": "python3"
  },
  "language_info": {
   "codemirror_mode": {
    "name": "ipython",
    "version": 3
   },
   "file_extension": ".py",
   "mimetype": "text/x-python",
   "name": "python",
   "nbconvert_exporter": "python",
   "pygments_lexer": "ipython3",
   "version": "3.8.3"
  }
 },
 "nbformat": 4,
 "nbformat_minor": 5
}
