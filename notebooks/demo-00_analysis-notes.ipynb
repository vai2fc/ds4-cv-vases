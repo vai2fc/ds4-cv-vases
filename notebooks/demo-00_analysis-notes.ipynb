{
 "cells": [
  {
   "cell_type": "markdown",
   "metadata": {},
   "source": [
    "# Define parameters for preprocessing new images\n",
    "\n",
    "*This notebook includes a short analysis of the images used in the model-building process to determine the parameters for preprocessing new images for the image recognition process.*  "
   ]
  },
  {
   "cell_type": "code",
   "execution_count": null,
   "metadata": {},
   "outputs": [],
   "source": [
    "# import necessary libraries\n",
    "import cv2\n",
    "import glob\n",
    "import os.path\n",
    "import pandas as pd\n",
    "import numpy as np\n",
    "import matplotlib.pyplot as plt"
   ]
  },
  {
   "cell_type": "code",
   "execution_count": null,
   "metadata": {},
   "outputs": [],
   "source": [
    "# set display options\n",
    "pd.set_option('display.max_colwidth', None)\n",
    "pd.set_option('display.max_rows', None)\n",
    "pd.set_option('display.max_columns', None)"
   ]
  },
  {
   "cell_type": "markdown",
   "metadata": {},
   "source": [
    "### Analysis of kithara sizes in proportion to image sizes"
   ]
  },
  {
   "cell_type": "code",
   "execution_count": null,
   "metadata": {},
   "outputs": [],
   "source": [
    "# read in the CSV with the image sizes and kithara sizes\n",
    "kitharai = pd.read_csv('../data/kithara_listing.csv')\n",
    "# show descriptive stats\n",
    "kitharai.info()"
   ]
  },
  {
   "cell_type": "code",
   "execution_count": null,
   "metadata": {},
   "outputs": [],
   "source": [
    "# clean up rows that have a '?' instead of a number\n",
    "kitharai = kitharai.drop(kitharai.index[345:349])\n",
    "# check to make sure the data are cleaned\n",
    "kitharai.loc[344:]"
   ]
  },
  {
   "cell_type": "code",
   "execution_count": null,
   "metadata": {},
   "outputs": [],
   "source": [
    "# convert the previously-questionable rows to numbers\n",
    "kitharai['image_height'] = pd.to_numeric(kitharai['image_height'])\n",
    "kitharai['image_width'] = pd.to_numeric(kitharai['image_width'])\n",
    "# create new columns with the labeled kithara width and height proportions compared to the full image dimensions\n",
    "kitharai['width_proportion'] = kitharai.kithara_width / kitharai.image_width\n",
    "kitharai['height_proportion'] = kitharai.kithara_height / kitharai.image_height"
   ]
  },
  {
   "cell_type": "markdown",
   "metadata": {},
   "source": [
    "#### Take a look at the distribution of sizes and proportions"
   ]
  },
  {
   "cell_type": "code",
   "execution_count": null,
   "metadata": {},
   "outputs": [],
   "source": [
    "kitharai.kithara_width.hist(bins = 20);"
   ]
  },
  {
   "cell_type": "code",
   "execution_count": null,
   "metadata": {},
   "outputs": [],
   "source": [
    "kitharai.kithara_height.hist(bins = 20);"
   ]
  },
  {
   "cell_type": "code",
   "execution_count": null,
   "metadata": {
    "scrolled": true
   },
   "outputs": [],
   "source": [
    "kitharai.width_proportion.hist(bins = 10);"
   ]
  },
  {
   "cell_type": "code",
   "execution_count": null,
   "metadata": {
    "scrolled": true
   },
   "outputs": [],
   "source": [
    "kitharai.height_proportion.hist(bins = 10);"
   ]
  },
  {
   "cell_type": "markdown",
   "metadata": {},
   "source": [
    "*To normalize for the wide range of kithara and image sizes across the dataset, let's use the kithara:image width and height proportions.*"
   ]
  },
  {
   "cell_type": "code",
   "execution_count": null,
   "metadata": {},
   "outputs": [],
   "source": [
    "print(kitharai.height_proportion.describe())\n",
    "print(kitharai.width_proportion.describe())"
   ]
  },
  {
   "cell_type": "code",
   "execution_count": null,
   "metadata": {},
   "outputs": [],
   "source": [
    "# identify the %s at ever 5%\n",
    "_, hbins20 = pd.qcut(kitharai['height_proportion'], q = 20, retbins = True)\n",
    "_, wbins20 = pd.qcut(kitharai['width_proportion'], q = 20, retbins = True)"
   ]
  },
  {
   "cell_type": "code",
   "execution_count": null,
   "metadata": {},
   "outputs": [],
   "source": [
    "print('height 5% bins:')\n",
    "print(hbins20)\n",
    "print('width 5% bins:')\n",
    "print(wbins20)"
   ]
  },
  {
   "cell_type": "markdown",
   "metadata": {},
   "source": [
    "#### Based on the quartile and decile breakdowns of kithara `width_proportion` and `height_proportion`, the %s used will be:\n",
    "* 10th %ile h: 3.4%, w: 2.8%, average: 3.1%\n",
    "* 25th %ile h: 4.7%, w: 3.7%, average: 4.2%\n",
    "* 50th %ile h: 6.1%, w: 5.5%, average: 5.8%\n",
    "* 75th %ile h: 9.4%, w: 8.1%, average: 8.8%\n",
    "* 90th %ile h: 13.7%, w: 12%, average: 12.9%"
   ]
  }
 ],
 "metadata": {
  "kernelspec": {
   "display_name": "Python 3",
   "language": "python",
   "name": "python3"
  },
  "language_info": {
   "codemirror_mode": {
    "name": "ipython",
    "version": 3
   },
   "file_extension": ".py",
   "mimetype": "text/x-python",
   "name": "python",
   "nbconvert_exporter": "python",
   "pygments_lexer": "ipython3",
   "version": "3.8.3"
  }
 },
 "nbformat": 4,
 "nbformat_minor": 5
}
